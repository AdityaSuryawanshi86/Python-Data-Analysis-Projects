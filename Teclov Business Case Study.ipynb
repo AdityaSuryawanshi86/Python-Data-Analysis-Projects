{
 "cells": [
  {
   "cell_type": "markdown",
   "id": "61d5e1a1",
   "metadata": {},
   "source": [
    "# Teclov Business Case Study"
   ]
  },
  {
   "cell_type": "code",
   "execution_count": 1,
   "id": "ad26d83a",
   "metadata": {},
   "outputs": [],
   "source": [
    "import numpy as np\n",
    "import pandas as pd\n",
    "import matplotlib.pyplot as plt\n",
    "import seaborn as sns"
   ]
  },
  {
   "cell_type": "markdown",
   "id": "3c7ac676",
   "metadata": {},
   "source": [
    "    Load the datsets -\n",
    "    \n",
    "        1) Companies dataset - (txt file)\n",
    "        \n",
    "        2) rounds2 dataset - (csv file)\n",
    "        \n",
    "        3) mapping dataset - (csv file)"
   ]
  },
  {
   "cell_type": "code",
   "execution_count": 3,
   "id": "e0334f18",
   "metadata": {},
   "outputs": [],
   "source": [
    "companies = pd.read_csv(\"companies.txt\", sep = \"\\t\", encoding = \"ISO-8859-1\")"
   ]
  },
  {
   "cell_type": "code",
   "execution_count": 4,
   "id": "1da2809b",
   "metadata": {},
   "outputs": [
    {
     "data": {
      "text/html": [
       "<div>\n",
       "<style scoped>\n",
       "    .dataframe tbody tr th:only-of-type {\n",
       "        vertical-align: middle;\n",
       "    }\n",
       "\n",
       "    .dataframe tbody tr th {\n",
       "        vertical-align: top;\n",
       "    }\n",
       "\n",
       "    .dataframe thead th {\n",
       "        text-align: right;\n",
       "    }\n",
       "</style>\n",
       "<table border=\"1\" class=\"dataframe\">\n",
       "  <thead>\n",
       "    <tr style=\"text-align: right;\">\n",
       "      <th></th>\n",
       "      <th>permalink</th>\n",
       "      <th>name</th>\n",
       "      <th>homepage_url</th>\n",
       "      <th>category_list</th>\n",
       "      <th>status</th>\n",
       "      <th>country_code</th>\n",
       "      <th>state_code</th>\n",
       "      <th>region</th>\n",
       "      <th>city</th>\n",
       "      <th>founded_at</th>\n",
       "    </tr>\n",
       "  </thead>\n",
       "  <tbody>\n",
       "    <tr>\n",
       "      <th>0</th>\n",
       "      <td>/Organization/-Fame</td>\n",
       "      <td>#fame</td>\n",
       "      <td>http://livfame.com</td>\n",
       "      <td>Media</td>\n",
       "      <td>operating</td>\n",
       "      <td>IND</td>\n",
       "      <td>16</td>\n",
       "      <td>Mumbai</td>\n",
       "      <td>Mumbai</td>\n",
       "      <td>NaN</td>\n",
       "    </tr>\n",
       "    <tr>\n",
       "      <th>1</th>\n",
       "      <td>/Organization/-Qounter</td>\n",
       "      <td>:Qounter</td>\n",
       "      <td>http://www.qounter.com</td>\n",
       "      <td>Application Platforms|Real Time|Social Network...</td>\n",
       "      <td>operating</td>\n",
       "      <td>USA</td>\n",
       "      <td>DE</td>\n",
       "      <td>DE - Other</td>\n",
       "      <td>Delaware City</td>\n",
       "      <td>04-09-2014</td>\n",
       "    </tr>\n",
       "    <tr>\n",
       "      <th>2</th>\n",
       "      <td>/Organization/-The-One-Of-Them-Inc-</td>\n",
       "      <td>(THE) ONE of THEM,Inc.</td>\n",
       "      <td>http://oneofthem.jp</td>\n",
       "      <td>Apps|Games|Mobile</td>\n",
       "      <td>operating</td>\n",
       "      <td>NaN</td>\n",
       "      <td>NaN</td>\n",
       "      <td>NaN</td>\n",
       "      <td>NaN</td>\n",
       "      <td>NaN</td>\n",
       "    </tr>\n",
       "    <tr>\n",
       "      <th>3</th>\n",
       "      <td>/Organization/0-6-Com</td>\n",
       "      <td>0-6.com</td>\n",
       "      <td>http://www.0-6.com</td>\n",
       "      <td>Curated Web</td>\n",
       "      <td>operating</td>\n",
       "      <td>CHN</td>\n",
       "      <td>22</td>\n",
       "      <td>Beijing</td>\n",
       "      <td>Beijing</td>\n",
       "      <td>01-01-2007</td>\n",
       "    </tr>\n",
       "    <tr>\n",
       "      <th>4</th>\n",
       "      <td>/Organization/004-Technologies</td>\n",
       "      <td>004 Technologies</td>\n",
       "      <td>http://004gmbh.de/en/004-interact</td>\n",
       "      <td>Software</td>\n",
       "      <td>operating</td>\n",
       "      <td>USA</td>\n",
       "      <td>IL</td>\n",
       "      <td>Springfield, Illinois</td>\n",
       "      <td>Champaign</td>\n",
       "      <td>01-01-2010</td>\n",
       "    </tr>\n",
       "  </tbody>\n",
       "</table>\n",
       "</div>"
      ],
      "text/plain": [
       "                             permalink                    name  \\\n",
       "0                  /Organization/-Fame                   #fame   \n",
       "1               /Organization/-Qounter                :Qounter   \n",
       "2  /Organization/-The-One-Of-Them-Inc-  (THE) ONE of THEM,Inc.   \n",
       "3                /Organization/0-6-Com                 0-6.com   \n",
       "4       /Organization/004-Technologies        004 Technologies   \n",
       "\n",
       "                        homepage_url  \\\n",
       "0                 http://livfame.com   \n",
       "1             http://www.qounter.com   \n",
       "2                http://oneofthem.jp   \n",
       "3                 http://www.0-6.com   \n",
       "4  http://004gmbh.de/en/004-interact   \n",
       "\n",
       "                                       category_list     status country_code  \\\n",
       "0                                              Media  operating          IND   \n",
       "1  Application Platforms|Real Time|Social Network...  operating          USA   \n",
       "2                                  Apps|Games|Mobile  operating          NaN   \n",
       "3                                        Curated Web  operating          CHN   \n",
       "4                                           Software  operating          USA   \n",
       "\n",
       "  state_code                 region           city  founded_at  \n",
       "0         16                 Mumbai         Mumbai         NaN  \n",
       "1         DE             DE - Other  Delaware City  04-09-2014  \n",
       "2        NaN                    NaN            NaN         NaN  \n",
       "3         22                Beijing        Beijing  01-01-2007  \n",
       "4         IL  Springfield, Illinois      Champaign  01-01-2010  "
      ]
     },
     "execution_count": 4,
     "metadata": {},
     "output_type": "execute_result"
    }
   ],
   "source": [
    "companies.head()"
   ]
  },
  {
   "cell_type": "code",
   "execution_count": 5,
   "id": "d51f1e6f",
   "metadata": {},
   "outputs": [
    {
     "name": "stdout",
     "output_type": "stream",
     "text": [
      "<class 'pandas.core.frame.DataFrame'>\n",
      "RangeIndex: 66368 entries, 0 to 66367\n",
      "Data columns (total 10 columns):\n",
      " #   Column         Non-Null Count  Dtype \n",
      "---  ------         --------------  ----- \n",
      " 0   permalink      66368 non-null  object\n",
      " 1   name           66367 non-null  object\n",
      " 2   homepage_url   61310 non-null  object\n",
      " 3   category_list  63220 non-null  object\n",
      " 4   status         66368 non-null  object\n",
      " 5   country_code   59410 non-null  object\n",
      " 6   state_code     57821 non-null  object\n",
      " 7   region         58338 non-null  object\n",
      " 8   city           58340 non-null  object\n",
      " 9   founded_at     51147 non-null  object\n",
      "dtypes: object(10)\n",
      "memory usage: 5.1+ MB\n"
     ]
    }
   ],
   "source": [
    "companies.info()"
   ]
  },
  {
   "cell_type": "code",
   "execution_count": 14,
   "id": "d8b02621",
   "metadata": {},
   "outputs": [
    {
     "data": {
      "text/plain": [
       "(66368, 10)"
      ]
     },
     "execution_count": 14,
     "metadata": {},
     "output_type": "execute_result"
    }
   ],
   "source": [
    "companies.shape"
   ]
  },
  {
   "cell_type": "markdown",
   "id": "720056bb",
   "metadata": {},
   "source": [
    "---------------------------------------------------------------------------------------------------------------------------"
   ]
  },
  {
   "cell_type": "code",
   "execution_count": 23,
   "id": "afcace10",
   "metadata": {},
   "outputs": [],
   "source": [
    "rounds = pd.read_csv(\"rounds2.csv\", encoding = \"ISO-8859-1\")"
   ]
  },
  {
   "cell_type": "code",
   "execution_count": 24,
   "id": "fb0f4185",
   "metadata": {},
   "outputs": [
    {
     "data": {
      "text/html": [
       "<div>\n",
       "<style scoped>\n",
       "    .dataframe tbody tr th:only-of-type {\n",
       "        vertical-align: middle;\n",
       "    }\n",
       "\n",
       "    .dataframe tbody tr th {\n",
       "        vertical-align: top;\n",
       "    }\n",
       "\n",
       "    .dataframe thead th {\n",
       "        text-align: right;\n",
       "    }\n",
       "</style>\n",
       "<table border=\"1\" class=\"dataframe\">\n",
       "  <thead>\n",
       "    <tr style=\"text-align: right;\">\n",
       "      <th></th>\n",
       "      <th>company_permalink</th>\n",
       "      <th>funding_round_permalink</th>\n",
       "      <th>funding_round_type</th>\n",
       "      <th>funding_round_code</th>\n",
       "      <th>funded_at</th>\n",
       "      <th>raised_amount_usd</th>\n",
       "    </tr>\n",
       "  </thead>\n",
       "  <tbody>\n",
       "    <tr>\n",
       "      <th>0</th>\n",
       "      <td>/organization/-fame</td>\n",
       "      <td>/funding-round/9a01d05418af9f794eebff7ace91f638</td>\n",
       "      <td>venture</td>\n",
       "      <td>B</td>\n",
       "      <td>05-01-2015</td>\n",
       "      <td>10000000.0</td>\n",
       "    </tr>\n",
       "    <tr>\n",
       "      <th>1</th>\n",
       "      <td>/ORGANIZATION/-QOUNTER</td>\n",
       "      <td>/funding-round/22dacff496eb7acb2b901dec1dfe5633</td>\n",
       "      <td>venture</td>\n",
       "      <td>A</td>\n",
       "      <td>14-10-2014</td>\n",
       "      <td>NaN</td>\n",
       "    </tr>\n",
       "    <tr>\n",
       "      <th>2</th>\n",
       "      <td>/organization/-qounter</td>\n",
       "      <td>/funding-round/b44fbb94153f6cdef13083530bb48030</td>\n",
       "      <td>seed</td>\n",
       "      <td>NaN</td>\n",
       "      <td>01-03-2014</td>\n",
       "      <td>700000.0</td>\n",
       "    </tr>\n",
       "    <tr>\n",
       "      <th>3</th>\n",
       "      <td>/ORGANIZATION/-THE-ONE-OF-THEM-INC-</td>\n",
       "      <td>/funding-round/650b8f704416801069bb178a1418776b</td>\n",
       "      <td>venture</td>\n",
       "      <td>B</td>\n",
       "      <td>30-01-2014</td>\n",
       "      <td>3406878.0</td>\n",
       "    </tr>\n",
       "    <tr>\n",
       "      <th>4</th>\n",
       "      <td>/organization/0-6-com</td>\n",
       "      <td>/funding-round/5727accaeaa57461bd22a9bdd945382d</td>\n",
       "      <td>venture</td>\n",
       "      <td>A</td>\n",
       "      <td>19-03-2008</td>\n",
       "      <td>2000000.0</td>\n",
       "    </tr>\n",
       "  </tbody>\n",
       "</table>\n",
       "</div>"
      ],
      "text/plain": [
       "                     company_permalink  \\\n",
       "0                  /organization/-fame   \n",
       "1               /ORGANIZATION/-QOUNTER   \n",
       "2               /organization/-qounter   \n",
       "3  /ORGANIZATION/-THE-ONE-OF-THEM-INC-   \n",
       "4                /organization/0-6-com   \n",
       "\n",
       "                           funding_round_permalink funding_round_type  \\\n",
       "0  /funding-round/9a01d05418af9f794eebff7ace91f638            venture   \n",
       "1  /funding-round/22dacff496eb7acb2b901dec1dfe5633            venture   \n",
       "2  /funding-round/b44fbb94153f6cdef13083530bb48030               seed   \n",
       "3  /funding-round/650b8f704416801069bb178a1418776b            venture   \n",
       "4  /funding-round/5727accaeaa57461bd22a9bdd945382d            venture   \n",
       "\n",
       "  funding_round_code   funded_at  raised_amount_usd  \n",
       "0                  B  05-01-2015         10000000.0  \n",
       "1                  A  14-10-2014                NaN  \n",
       "2                NaN  01-03-2014           700000.0  \n",
       "3                  B  30-01-2014          3406878.0  \n",
       "4                  A  19-03-2008          2000000.0  "
      ]
     },
     "execution_count": 24,
     "metadata": {},
     "output_type": "execute_result"
    }
   ],
   "source": [
    "rounds.head()"
   ]
  },
  {
   "cell_type": "code",
   "execution_count": 10,
   "id": "cbedc53d",
   "metadata": {},
   "outputs": [
    {
     "name": "stdout",
     "output_type": "stream",
     "text": [
      "<class 'pandas.core.frame.DataFrame'>\n",
      "RangeIndex: 114949 entries, 0 to 114948\n",
      "Data columns (total 6 columns):\n",
      " #   Column                   Non-Null Count   Dtype  \n",
      "---  ------                   --------------   -----  \n",
      " 0   company_permalink        114949 non-null  object \n",
      " 1   funding_round_permalink  114949 non-null  object \n",
      " 2   funding_round_type       114949 non-null  object \n",
      " 3   funding_round_code       31140 non-null   object \n",
      " 4   funded_at                114949 non-null  object \n",
      " 5   raised_amount_usd        94959 non-null   float64\n",
      "dtypes: float64(1), object(5)\n",
      "memory usage: 5.3+ MB\n"
     ]
    }
   ],
   "source": [
    "rounds.info()"
   ]
  },
  {
   "cell_type": "code",
   "execution_count": 15,
   "id": "320d352e",
   "metadata": {},
   "outputs": [
    {
     "data": {
      "text/plain": [
       "(114949, 6)"
      ]
     },
     "execution_count": 15,
     "metadata": {},
     "output_type": "execute_result"
    }
   ],
   "source": [
    "rounds.shape"
   ]
  },
  {
   "cell_type": "markdown",
   "id": "b6a66b14",
   "metadata": {},
   "source": [
    "---------------------------------------------------------------------------------------------------------------------------"
   ]
  },
  {
   "cell_type": "code",
   "execution_count": 11,
   "id": "87fffb60",
   "metadata": {},
   "outputs": [],
   "source": [
    "mapping = pd.read_csv(\"mapping.csv\")"
   ]
  },
  {
   "cell_type": "code",
   "execution_count": 12,
   "id": "14c81813",
   "metadata": {},
   "outputs": [
    {
     "data": {
      "text/html": [
       "<div>\n",
       "<style scoped>\n",
       "    .dataframe tbody tr th:only-of-type {\n",
       "        vertical-align: middle;\n",
       "    }\n",
       "\n",
       "    .dataframe tbody tr th {\n",
       "        vertical-align: top;\n",
       "    }\n",
       "\n",
       "    .dataframe thead th {\n",
       "        text-align: right;\n",
       "    }\n",
       "</style>\n",
       "<table border=\"1\" class=\"dataframe\">\n",
       "  <thead>\n",
       "    <tr style=\"text-align: right;\">\n",
       "      <th></th>\n",
       "      <th>category_list</th>\n",
       "      <th>Automotive &amp; Sports</th>\n",
       "      <th>Blanks</th>\n",
       "      <th>Cleantech / Semiconductors</th>\n",
       "      <th>Entertainment</th>\n",
       "      <th>Health</th>\n",
       "      <th>Manufacturing</th>\n",
       "      <th>News, Search and Messaging</th>\n",
       "      <th>Others</th>\n",
       "      <th>Social, Finance, Analytics, Advertising</th>\n",
       "    </tr>\n",
       "  </thead>\n",
       "  <tbody>\n",
       "    <tr>\n",
       "      <th>0</th>\n",
       "      <td>NaN</td>\n",
       "      <td>0</td>\n",
       "      <td>1</td>\n",
       "      <td>0</td>\n",
       "      <td>0</td>\n",
       "      <td>0</td>\n",
       "      <td>0</td>\n",
       "      <td>0</td>\n",
       "      <td>0</td>\n",
       "      <td>0</td>\n",
       "    </tr>\n",
       "    <tr>\n",
       "      <th>1</th>\n",
       "      <td>3D</td>\n",
       "      <td>0</td>\n",
       "      <td>0</td>\n",
       "      <td>0</td>\n",
       "      <td>0</td>\n",
       "      <td>0</td>\n",
       "      <td>1</td>\n",
       "      <td>0</td>\n",
       "      <td>0</td>\n",
       "      <td>0</td>\n",
       "    </tr>\n",
       "    <tr>\n",
       "      <th>2</th>\n",
       "      <td>3D Printing</td>\n",
       "      <td>0</td>\n",
       "      <td>0</td>\n",
       "      <td>0</td>\n",
       "      <td>0</td>\n",
       "      <td>0</td>\n",
       "      <td>1</td>\n",
       "      <td>0</td>\n",
       "      <td>0</td>\n",
       "      <td>0</td>\n",
       "    </tr>\n",
       "    <tr>\n",
       "      <th>3</th>\n",
       "      <td>3D Technology</td>\n",
       "      <td>0</td>\n",
       "      <td>0</td>\n",
       "      <td>0</td>\n",
       "      <td>0</td>\n",
       "      <td>0</td>\n",
       "      <td>1</td>\n",
       "      <td>0</td>\n",
       "      <td>0</td>\n",
       "      <td>0</td>\n",
       "    </tr>\n",
       "    <tr>\n",
       "      <th>4</th>\n",
       "      <td>Accounting</td>\n",
       "      <td>0</td>\n",
       "      <td>0</td>\n",
       "      <td>0</td>\n",
       "      <td>0</td>\n",
       "      <td>0</td>\n",
       "      <td>0</td>\n",
       "      <td>0</td>\n",
       "      <td>0</td>\n",
       "      <td>1</td>\n",
       "    </tr>\n",
       "  </tbody>\n",
       "</table>\n",
       "</div>"
      ],
      "text/plain": [
       "   category_list  Automotive & Sports  Blanks  Cleantech / Semiconductors  \\\n",
       "0            NaN                    0       1                           0   \n",
       "1             3D                    0       0                           0   \n",
       "2    3D Printing                    0       0                           0   \n",
       "3  3D Technology                    0       0                           0   \n",
       "4     Accounting                    0       0                           0   \n",
       "\n",
       "   Entertainment  Health  Manufacturing  News, Search and Messaging  Others  \\\n",
       "0              0       0              0                           0       0   \n",
       "1              0       0              1                           0       0   \n",
       "2              0       0              1                           0       0   \n",
       "3              0       0              1                           0       0   \n",
       "4              0       0              0                           0       0   \n",
       "\n",
       "   Social, Finance, Analytics, Advertising  \n",
       "0                                        0  \n",
       "1                                        0  \n",
       "2                                        0  \n",
       "3                                        0  \n",
       "4                                        1  "
      ]
     },
     "execution_count": 12,
     "metadata": {},
     "output_type": "execute_result"
    }
   ],
   "source": [
    "mapping.head()"
   ]
  },
  {
   "cell_type": "code",
   "execution_count": 13,
   "id": "08748573",
   "metadata": {},
   "outputs": [
    {
     "name": "stdout",
     "output_type": "stream",
     "text": [
      "<class 'pandas.core.frame.DataFrame'>\n",
      "RangeIndex: 688 entries, 0 to 687\n",
      "Data columns (total 10 columns):\n",
      " #   Column                                   Non-Null Count  Dtype \n",
      "---  ------                                   --------------  ----- \n",
      " 0   category_list                            687 non-null    object\n",
      " 1   Automotive & Sports                      688 non-null    int64 \n",
      " 2   Blanks                                   688 non-null    int64 \n",
      " 3   Cleantech / Semiconductors               688 non-null    int64 \n",
      " 4   Entertainment                            688 non-null    int64 \n",
      " 5   Health                                   688 non-null    int64 \n",
      " 6   Manufacturing                            688 non-null    int64 \n",
      " 7   News, Search and Messaging               688 non-null    int64 \n",
      " 8   Others                                   688 non-null    int64 \n",
      " 9   Social, Finance, Analytics, Advertising  688 non-null    int64 \n",
      "dtypes: int64(9), object(1)\n",
      "memory usage: 53.9+ KB\n"
     ]
    }
   ],
   "source": [
    "mapping.info()"
   ]
  },
  {
   "cell_type": "code",
   "execution_count": 16,
   "id": "a44433d9",
   "metadata": {},
   "outputs": [
    {
     "data": {
      "text/plain": [
       "(688, 10)"
      ]
     },
     "execution_count": 16,
     "metadata": {},
     "output_type": "execute_result"
    }
   ],
   "source": [
    "mapping.shape"
   ]
  },
  {
   "cell_type": "markdown",
   "id": "e94b6ddf",
   "metadata": {},
   "source": [
    "---------------------------------------------------------------------------------------------------------------------------"
   ]
  },
  {
   "cell_type": "markdown",
   "id": "dd40824f",
   "metadata": {},
   "source": [
    "    **Problem no. - 1\n",
    "        "
   ]
  },
  {
   "cell_type": "code",
   "execution_count": 17,
   "id": "052f1b4a",
   "metadata": {},
   "outputs": [],
   "source": [
    "companies[\"permalink\"] = companies[\"permalink\"].str.lower()"
   ]
  },
  {
   "cell_type": "code",
   "execution_count": 19,
   "id": "d2b8f5e8",
   "metadata": {},
   "outputs": [
    {
     "data": {
      "text/plain": [
       "66368"
      ]
     },
     "execution_count": 19,
     "metadata": {},
     "output_type": "execute_result"
    }
   ],
   "source": [
    "# 1) How many unique companies present in rounds2 ?\n",
    "companies[\"permalink\"].nunique()"
   ]
  },
  {
   "cell_type": "markdown",
   "id": "396fab91",
   "metadata": {},
   "source": [
    "---------------------------------------------------------------------------------------------------------------------------"
   ]
  },
  {
   "cell_type": "code",
   "execution_count": 25,
   "id": "af0a70dd",
   "metadata": {},
   "outputs": [
    {
     "data": {
      "text/plain": [
       "90247"
      ]
     },
     "execution_count": 25,
     "metadata": {},
     "output_type": "execute_result"
    }
   ],
   "source": [
    "rounds[\"company_permalink\"].nunique()"
   ]
  },
  {
   "cell_type": "code",
   "execution_count": 26,
   "id": "511c2d46",
   "metadata": {},
   "outputs": [],
   "source": [
    "rounds['company_permalink'] = rounds['company_permalink'].str.lower()"
   ]
  },
  {
   "cell_type": "code",
   "execution_count": 28,
   "id": "5d0f04fc",
   "metadata": {},
   "outputs": [
    {
     "data": {
      "text/plain": [
       "66370"
      ]
     },
     "execution_count": 28,
     "metadata": {},
     "output_type": "execute_result"
    }
   ],
   "source": [
    "# 2) How many unique companies present in companies ?\n",
    "rounds[\"company_permalink\"].nunique()"
   ]
  },
  {
   "cell_type": "markdown",
   "id": "cc3f5965",
   "metadata": {},
   "source": [
    "---------------------------------------------------------------------------------------------------------------------------"
   ]
  },
  {
   "cell_type": "markdown",
   "id": "31c37706",
   "metadata": {},
   "source": [
    "    The extra companies are still there in rounds dataset which needs to filtered."
   ]
  },
  {
   "cell_type": "code",
   "execution_count": 30,
   "id": "452a442f",
   "metadata": {},
   "outputs": [
    {
     "data": {
      "text/html": [
       "<div>\n",
       "<style scoped>\n",
       "    .dataframe tbody tr th:only-of-type {\n",
       "        vertical-align: middle;\n",
       "    }\n",
       "\n",
       "    .dataframe tbody tr th {\n",
       "        vertical-align: top;\n",
       "    }\n",
       "\n",
       "    .dataframe thead th {\n",
       "        text-align: right;\n",
       "    }\n",
       "</style>\n",
       "<table border=\"1\" class=\"dataframe\">\n",
       "  <thead>\n",
       "    <tr style=\"text-align: right;\">\n",
       "      <th></th>\n",
       "      <th>company_permalink</th>\n",
       "      <th>funding_round_permalink</th>\n",
       "      <th>funding_round_type</th>\n",
       "      <th>funding_round_code</th>\n",
       "      <th>funded_at</th>\n",
       "      <th>raised_amount_usd</th>\n",
       "    </tr>\n",
       "  </thead>\n",
       "  <tbody>\n",
       "    <tr>\n",
       "      <th>29597</th>\n",
       "      <td>/organization/e-cãbica</td>\n",
       "      <td>/funding-round/8491f74869e4fe8ba9c378394f8fbdea</td>\n",
       "      <td>seed</td>\n",
       "      <td>NaN</td>\n",
       "      <td>01-02-2015</td>\n",
       "      <td>NaN</td>\n",
       "    </tr>\n",
       "    <tr>\n",
       "      <th>31863</th>\n",
       "      <td>/organization/energystone-games-çµç³æ¸¸æ</td>\n",
       "      <td>/funding-round/b89553f3d2279c5683ae93f45a21cfe0</td>\n",
       "      <td>seed</td>\n",
       "      <td>NaN</td>\n",
       "      <td>09-08-2014</td>\n",
       "      <td>NaN</td>\n",
       "    </tr>\n",
       "    <tr>\n",
       "      <th>45176</th>\n",
       "      <td>/organization/huizuche-com-æ ç§ÿè½¦</td>\n",
       "      <td>/funding-round/8f8a32dbeeb0f831a78702f83af78a36</td>\n",
       "      <td>seed</td>\n",
       "      <td>NaN</td>\n",
       "      <td>18-09-2014</td>\n",
       "      <td>NaN</td>\n",
       "    </tr>\n",
       "    <tr>\n",
       "      <th>58473</th>\n",
       "      <td>/organization/magnet-tech-ç£ç³ç§æ</td>\n",
       "      <td>/funding-round/8fc91fbb32bc95e97f151dd0cb4166bf</td>\n",
       "      <td>seed</td>\n",
       "      <td>NaN</td>\n",
       "      <td>16-08-2014</td>\n",
       "      <td>1625585.0</td>\n",
       "    </tr>\n",
       "    <tr>\n",
       "      <th>101036</th>\n",
       "      <td>/organization/tipcat-interactive-æ²èÿä¿¡æ¯ç...</td>\n",
       "      <td>/funding-round/41005928a1439cb2d706a43cb661f60f</td>\n",
       "      <td>seed</td>\n",
       "      <td>NaN</td>\n",
       "      <td>06-09-2010</td>\n",
       "      <td>NaN</td>\n",
       "    </tr>\n",
       "    <tr>\n",
       "      <th>109969</th>\n",
       "      <td>/organization/weiche-tech-åè½¦ç§æ</td>\n",
       "      <td>/funding-round/f74e457f838b81fa0b29649740f186d8</td>\n",
       "      <td>venture</td>\n",
       "      <td>A</td>\n",
       "      <td>06-09-2015</td>\n",
       "      <td>NaN</td>\n",
       "    </tr>\n",
       "    <tr>\n",
       "      <th>113839</th>\n",
       "      <td>/organization/zengame-ç¦",
       "æ¸¸ç§æ</td>\n",
       "      <td>/funding-round/6ba28fb4f3eadf5a9c6c81bc5dde6cdf</td>\n",
       "      <td>seed</td>\n",
       "      <td>NaN</td>\n",
       "      <td>17-07-2010</td>\n",
       "      <td>NaN</td>\n",
       "    </tr>\n",
       "  </tbody>\n",
       "</table>\n",
       "</div>"
      ],
      "text/plain": [
       "                                        company_permalink  \\\n",
       "29597                             /organization/e-cãbica   \n",
       "31863        /organization/energystone-games-çµç³æ¸¸æ   \n",
       "45176                /organization/huizuche-com-æ ç§ÿè½¦   \n",
       "58473              /organization/magnet-tech-ç£ç³ç§æ   \n",
       "101036  /organization/tipcat-interactive-æ²èÿä¿¡æ¯ç...   \n",
       "109969             /organization/weiche-tech-åè½¦ç§æ   \n",
       "113839                 /organization/zengame-ç¦\n",
       "æ¸¸ç§æ   \n",
       "\n",
       "                                funding_round_permalink funding_round_type  \\\n",
       "29597   /funding-round/8491f74869e4fe8ba9c378394f8fbdea               seed   \n",
       "31863   /funding-round/b89553f3d2279c5683ae93f45a21cfe0               seed   \n",
       "45176   /funding-round/8f8a32dbeeb0f831a78702f83af78a36               seed   \n",
       "58473   /funding-round/8fc91fbb32bc95e97f151dd0cb4166bf               seed   \n",
       "101036  /funding-round/41005928a1439cb2d706a43cb661f60f               seed   \n",
       "109969  /funding-round/f74e457f838b81fa0b29649740f186d8            venture   \n",
       "113839  /funding-round/6ba28fb4f3eadf5a9c6c81bc5dde6cdf               seed   \n",
       "\n",
       "       funding_round_code   funded_at  raised_amount_usd  \n",
       "29597                 NaN  01-02-2015                NaN  \n",
       "31863                 NaN  09-08-2014                NaN  \n",
       "45176                 NaN  18-09-2014                NaN  \n",
       "58473                 NaN  16-08-2014          1625585.0  \n",
       "101036                NaN  06-09-2010                NaN  \n",
       "109969                  A  06-09-2015                NaN  \n",
       "113839                NaN  17-07-2010                NaN  "
      ]
     },
     "execution_count": 30,
     "metadata": {},
     "output_type": "execute_result"
    }
   ],
   "source": [
    "rounds.loc[~rounds[\"company_permalink\"].isin(companies[\"permalink\"]), :]"
   ]
  },
  {
   "cell_type": "markdown",
   "id": "05e2635b",
   "metadata": {},
   "source": [
    "    We have encoding problem as ISO is not working properly"
   ]
  },
  {
   "cell_type": "code",
   "execution_count": 32,
   "id": "90fde478",
   "metadata": {},
   "outputs": [
    {
     "data": {
      "text/html": [
       "<div>\n",
       "<style scoped>\n",
       "    .dataframe tbody tr th:only-of-type {\n",
       "        vertical-align: middle;\n",
       "    }\n",
       "\n",
       "    .dataframe tbody tr th {\n",
       "        vertical-align: top;\n",
       "    }\n",
       "\n",
       "    .dataframe thead th {\n",
       "        text-align: right;\n",
       "    }\n",
       "</style>\n",
       "<table border=\"1\" class=\"dataframe\">\n",
       "  <thead>\n",
       "    <tr style=\"text-align: right;\">\n",
       "      <th></th>\n",
       "      <th>company_permalink</th>\n",
       "      <th>funding_round_permalink</th>\n",
       "      <th>funding_round_type</th>\n",
       "      <th>funding_round_code</th>\n",
       "      <th>funded_at</th>\n",
       "      <th>raised_amount_usd</th>\n",
       "    </tr>\n",
       "  </thead>\n",
       "  <tbody>\n",
       "    <tr>\n",
       "      <th>29597</th>\n",
       "      <td>/ORGANIZATION/E-CÃBICA</td>\n",
       "      <td>/funding-round/8491f74869e4fe8ba9c378394f8fbdea</td>\n",
       "      <td>seed</td>\n",
       "      <td>NaN</td>\n",
       "      <td>01-02-2015</td>\n",
       "      <td>NaN</td>\n",
       "    </tr>\n",
       "    <tr>\n",
       "      <th>31863</th>\n",
       "      <td>/ORGANIZATION/ENERGYSTONE-GAMES-ÇµÇ³Æ¸¸Æ</td>\n",
       "      <td>/funding-round/b89553f3d2279c5683ae93f45a21cfe0</td>\n",
       "      <td>seed</td>\n",
       "      <td>NaN</td>\n",
       "      <td>09-08-2014</td>\n",
       "      <td>NaN</td>\n",
       "    </tr>\n",
       "    <tr>\n",
       "      <th>45176</th>\n",
       "      <td>/organization/huizuche-com-æ ç§ÿè½¦</td>\n",
       "      <td>/funding-round/8f8a32dbeeb0f831a78702f83af78a36</td>\n",
       "      <td>seed</td>\n",
       "      <td>NaN</td>\n",
       "      <td>18-09-2014</td>\n",
       "      <td>NaN</td>\n",
       "    </tr>\n",
       "    <tr>\n",
       "      <th>58473</th>\n",
       "      <td>/ORGANIZATION/MAGNET-TECH-Ç£Ç³Ç§Æ</td>\n",
       "      <td>/funding-round/8fc91fbb32bc95e97f151dd0cb4166bf</td>\n",
       "      <td>seed</td>\n",
       "      <td>NaN</td>\n",
       "      <td>16-08-2014</td>\n",
       "      <td>1625585.0</td>\n",
       "    </tr>\n",
       "  </tbody>\n",
       "</table>\n",
       "</div>"
      ],
      "text/plain": [
       "                                  company_permalink  \\\n",
       "29597                       /ORGANIZATION/E-CÃBICA   \n",
       "31863  /ORGANIZATION/ENERGYSTONE-GAMES-ÇµÇ³Æ¸¸Æ   \n",
       "45176          /organization/huizuche-com-æ ç§ÿè½¦   \n",
       "58473        /ORGANIZATION/MAGNET-TECH-Ç£Ç³Ç§Æ   \n",
       "\n",
       "                               funding_round_permalink funding_round_type  \\\n",
       "29597  /funding-round/8491f74869e4fe8ba9c378394f8fbdea               seed   \n",
       "31863  /funding-round/b89553f3d2279c5683ae93f45a21cfe0               seed   \n",
       "45176  /funding-round/8f8a32dbeeb0f831a78702f83af78a36               seed   \n",
       "58473  /funding-round/8fc91fbb32bc95e97f151dd0cb4166bf               seed   \n",
       "\n",
       "      funding_round_code   funded_at  raised_amount_usd  \n",
       "29597                NaN  01-02-2015                NaN  \n",
       "31863                NaN  09-08-2014                NaN  \n",
       "45176                NaN  18-09-2014                NaN  \n",
       "58473                NaN  16-08-2014          1625585.0  "
      ]
     },
     "execution_count": 32,
     "metadata": {},
     "output_type": "execute_result"
    }
   ],
   "source": [
    "rounds_original = pd.read_csv(\"rounds2.csv\", encoding = \"ISO-8859-1\")\n",
    "rounds_original.iloc[[29597, 31863, 45176, 58473], :]"
   ]
  },
  {
   "cell_type": "markdown",
   "id": "30562068",
   "metadata": {},
   "source": [
    "---------------------------------------------------------------------------------------------------------------------------"
   ]
  },
  {
   "cell_type": "markdown",
   "id": "e6ec5413",
   "metadata": {},
   "source": [
    "    Different Techniques to overcome encoding problem while reading datset which are shown below.\n",
    "        \n",
    "        (To remove special characters from given data to read data properly)"
   ]
  },
  {
   "cell_type": "code",
   "execution_count": 34,
   "id": "4afe29a7",
   "metadata": {},
   "outputs": [],
   "source": [
    "# Method - 1\n",
    "# import chardet\n",
    "\n",
    "# rawdata = open('rounds2.csv', 'rb').read()\n",
    "# result = chardet.detect(rawdata)\n",
    "# charenc = result['encoding']\n",
    "# print(charenc)"
   ]
  },
  {
   "cell_type": "code",
   "execution_count": null,
   "id": "d1a1808b",
   "metadata": {},
   "outputs": [],
   "source": [
    "# Method - 2\n",
    "# trying different encodings\n",
    "# encoding=\"cp1254\" throws an error\n",
    "# rounds_original = pd.read_csv(\"rounds2.csv\", encoding=\"cp1254\")\n",
    "# rounds_original.iloc[[29597, 31863, 45176], :]"
   ]
  },
  {
   "cell_type": "code",
   "execution_count": null,
   "id": "a11c0f00",
   "metadata": {},
   "outputs": [],
   "source": [
    "# Method - 3\n",
    "# utf - 8"
   ]
  },
  {
   "cell_type": "code",
   "execution_count": 35,
   "id": "11c161f8",
   "metadata": {},
   "outputs": [],
   "source": [
    "# Method - 4\n",
    "# Ascii"
   ]
  },
  {
   "cell_type": "code",
   "execution_count": 39,
   "id": "7f300055",
   "metadata": {},
   "outputs": [
    {
     "data": {
      "text/html": [
       "<div>\n",
       "<style scoped>\n",
       "    .dataframe tbody tr th:only-of-type {\n",
       "        vertical-align: middle;\n",
       "    }\n",
       "\n",
       "    .dataframe tbody tr th {\n",
       "        vertical-align: top;\n",
       "    }\n",
       "\n",
       "    .dataframe thead th {\n",
       "        text-align: right;\n",
       "    }\n",
       "</style>\n",
       "<table border=\"1\" class=\"dataframe\">\n",
       "  <thead>\n",
       "    <tr style=\"text-align: right;\">\n",
       "      <th></th>\n",
       "      <th>company_permalink</th>\n",
       "      <th>funding_round_permalink</th>\n",
       "      <th>funding_round_type</th>\n",
       "      <th>funding_round_code</th>\n",
       "      <th>funded_at</th>\n",
       "      <th>raised_amount_usd</th>\n",
       "    </tr>\n",
       "  </thead>\n",
       "  <tbody>\n",
       "    <tr>\n",
       "      <th>77</th>\n",
       "      <td>/organization/10north</td>\n",
       "      <td>/funding-round/b41ff7de932f8b6e5bbeed3966c0ed6a</td>\n",
       "      <td>equity_crowdfunding</td>\n",
       "      <td>NaN</td>\n",
       "      <td>12-08-2014</td>\n",
       "      <td>NaN</td>\n",
       "    </tr>\n",
       "    <tr>\n",
       "      <th>729</th>\n",
       "      <td>/organization/51wofang-</td>\n",
       "      <td>/funding-round/346b9180d276a74e0fbb2825e66c6f5b</td>\n",
       "      <td>venture</td>\n",
       "      <td>A</td>\n",
       "      <td>06-07-2015</td>\n",
       "      <td>5000000.0</td>\n",
       "    </tr>\n",
       "    <tr>\n",
       "      <th>2670</th>\n",
       "      <td>/organization/adslinked</td>\n",
       "      <td>/funding-round/449ae54bb63c768c232955ca6911dee4</td>\n",
       "      <td>seed</td>\n",
       "      <td>NaN</td>\n",
       "      <td>29-09-2014</td>\n",
       "      <td>100000.0</td>\n",
       "    </tr>\n",
       "    <tr>\n",
       "      <th>3166</th>\n",
       "      <td>/organization/aesthetic-everything-social-network</td>\n",
       "      <td>/funding-round/62593455f1a69857ed05d5734cc04132</td>\n",
       "      <td>equity_crowdfunding</td>\n",
       "      <td>NaN</td>\n",
       "      <td>12-10-2014</td>\n",
       "      <td>NaN</td>\n",
       "    </tr>\n",
       "    <tr>\n",
       "      <th>3291</th>\n",
       "      <td>/organization/affluent-attach-club-2</td>\n",
       "      <td>/funding-round/626678bdf1654bc4df9b1b34647a4df1</td>\n",
       "      <td>seed</td>\n",
       "      <td>NaN</td>\n",
       "      <td>15-10-2014</td>\n",
       "      <td>100000.0</td>\n",
       "    </tr>\n",
       "    <tr>\n",
       "      <th>...</th>\n",
       "      <td>...</td>\n",
       "      <td>...</td>\n",
       "      <td>...</td>\n",
       "      <td>...</td>\n",
       "      <td>...</td>\n",
       "      <td>...</td>\n",
       "    </tr>\n",
       "    <tr>\n",
       "      <th>110545</th>\n",
       "      <td>/organization/whodats-spaces</td>\n",
       "      <td>/funding-round/d5d6db3d1e6c54d71a63b3aa0c9278e6</td>\n",
       "      <td>seed</td>\n",
       "      <td>NaN</td>\n",
       "      <td>28-10-2014</td>\n",
       "      <td>30000.0</td>\n",
       "    </tr>\n",
       "    <tr>\n",
       "      <th>113839</th>\n",
       "      <td>/organization/zengame-</td>\n",
       "      <td>/funding-round/6ba28fb4f3eadf5a9c6c81bc5dde6cdf</td>\n",
       "      <td>seed</td>\n",
       "      <td>NaN</td>\n",
       "      <td>17-07-2010</td>\n",
       "      <td>NaN</td>\n",
       "    </tr>\n",
       "    <tr>\n",
       "      <th>114946</th>\n",
       "      <td>/organization/eron</td>\n",
       "      <td>/funding-round/59f4dce44723b794f21ded3daed6e4fe</td>\n",
       "      <td>venture</td>\n",
       "      <td>A</td>\n",
       "      <td>01-08-2014</td>\n",
       "      <td>NaN</td>\n",
       "    </tr>\n",
       "    <tr>\n",
       "      <th>114947</th>\n",
       "      <td>/organization/asys-2</td>\n",
       "      <td>/funding-round/35f09d0794651719b02bbfd859ba9ff5</td>\n",
       "      <td>seed</td>\n",
       "      <td>NaN</td>\n",
       "      <td>01-01-2015</td>\n",
       "      <td>18192.0</td>\n",
       "    </tr>\n",
       "    <tr>\n",
       "      <th>114948</th>\n",
       "      <td>/organization/novatiff-reklam-ve-tantm-hizmetl...</td>\n",
       "      <td>/funding-round/af942869878d2cd788ef5189b435ebc4</td>\n",
       "      <td>grant</td>\n",
       "      <td>NaN</td>\n",
       "      <td>01-10-2013</td>\n",
       "      <td>14851.0</td>\n",
       "    </tr>\n",
       "  </tbody>\n",
       "</table>\n",
       "<p>74 rows × 6 columns</p>\n",
       "</div>"
      ],
      "text/plain": [
       "                                        company_permalink  \\\n",
       "77                                  /organization/10north   \n",
       "729                               /organization/51wofang-   \n",
       "2670                              /organization/adslinked   \n",
       "3166    /organization/aesthetic-everything-social-network   \n",
       "3291                 /organization/affluent-attach-club-2   \n",
       "...                                                   ...   \n",
       "110545                       /organization/whodats-spaces   \n",
       "113839                             /organization/zengame-   \n",
       "114946                                 /organization/eron   \n",
       "114947                               /organization/asys-2   \n",
       "114948  /organization/novatiff-reklam-ve-tantm-hizmetl...   \n",
       "\n",
       "                                funding_round_permalink   funding_round_type  \\\n",
       "77      /funding-round/b41ff7de932f8b6e5bbeed3966c0ed6a  equity_crowdfunding   \n",
       "729     /funding-round/346b9180d276a74e0fbb2825e66c6f5b              venture   \n",
       "2670    /funding-round/449ae54bb63c768c232955ca6911dee4                 seed   \n",
       "3166    /funding-round/62593455f1a69857ed05d5734cc04132  equity_crowdfunding   \n",
       "3291    /funding-round/626678bdf1654bc4df9b1b34647a4df1                 seed   \n",
       "...                                                 ...                  ...   \n",
       "110545  /funding-round/d5d6db3d1e6c54d71a63b3aa0c9278e6                 seed   \n",
       "113839  /funding-round/6ba28fb4f3eadf5a9c6c81bc5dde6cdf                 seed   \n",
       "114946  /funding-round/59f4dce44723b794f21ded3daed6e4fe              venture   \n",
       "114947  /funding-round/35f09d0794651719b02bbfd859ba9ff5                 seed   \n",
       "114948  /funding-round/af942869878d2cd788ef5189b435ebc4                grant   \n",
       "\n",
       "       funding_round_code   funded_at  raised_amount_usd  \n",
       "77                    NaN  12-08-2014                NaN  \n",
       "729                     A  06-07-2015          5000000.0  \n",
       "2670                  NaN  29-09-2014           100000.0  \n",
       "3166                  NaN  12-10-2014                NaN  \n",
       "3291                  NaN  15-10-2014           100000.0  \n",
       "...                   ...         ...                ...  \n",
       "110545                NaN  28-10-2014            30000.0  \n",
       "113839                NaN  17-07-2010                NaN  \n",
       "114946                  A  01-08-2014                NaN  \n",
       "114947                NaN  01-01-2015            18192.0  \n",
       "114948                NaN  01-10-2013            14851.0  \n",
       "\n",
       "[74 rows x 6 columns]"
      ]
     },
     "execution_count": 39,
     "metadata": {},
     "output_type": "execute_result"
    }
   ],
   "source": [
    "# Method - 5 (stack overflow)\n",
    "rounds[\"company_permalink\"] = rounds[\"company_permalink\"].str.encode('utf-8').str.decode('ascii', 'ignore')\n",
    "rounds.loc[~rounds[\"company_permalink\"].isin(companies[\"permalink\"]), :]"
   ]
  },
  {
   "cell_type": "code",
   "execution_count": 40,
   "id": "105e3bc9",
   "metadata": {},
   "outputs": [
    {
     "data": {
      "text/plain": [
       "66368"
      ]
     },
     "execution_count": 40,
     "metadata": {},
     "output_type": "execute_result"
    }
   ],
   "source": [
    "rounds[\"company_permalink\"].nunique()"
   ]
  },
  {
   "cell_type": "markdown",
   "id": "34f84eb4",
   "metadata": {},
   "source": [
    "---------------------------------------------------------------------------------------------------------------------------"
   ]
  },
  {
   "cell_type": "code",
   "execution_count": 46,
   "id": "8115a67d",
   "metadata": {},
   "outputs": [
    {
     "data": {
      "text/html": [
       "<div>\n",
       "<style scoped>\n",
       "    .dataframe tbody tr th:only-of-type {\n",
       "        vertical-align: middle;\n",
       "    }\n",
       "\n",
       "    .dataframe tbody tr th {\n",
       "        vertical-align: top;\n",
       "    }\n",
       "\n",
       "    .dataframe thead th {\n",
       "        text-align: right;\n",
       "    }\n",
       "</style>\n",
       "<table border=\"1\" class=\"dataframe\">\n",
       "  <thead>\n",
       "    <tr style=\"text-align: right;\">\n",
       "      <th></th>\n",
       "      <th>permalink</th>\n",
       "      <th>name</th>\n",
       "      <th>homepage_url</th>\n",
       "      <th>category_list</th>\n",
       "      <th>status</th>\n",
       "      <th>country_code</th>\n",
       "      <th>state_code</th>\n",
       "      <th>region</th>\n",
       "      <th>city</th>\n",
       "      <th>founded_at</th>\n",
       "    </tr>\n",
       "  </thead>\n",
       "  <tbody>\n",
       "  </tbody>\n",
       "</table>\n",
       "</div>"
      ],
      "text/plain": [
       "Empty DataFrame\n",
       "Columns: [permalink, name, homepage_url, category_list, status, country_code, state_code, region, city, founded_at]\n",
       "Index: []"
      ]
     },
     "execution_count": 46,
     "metadata": {},
     "output_type": "execute_result"
    }
   ],
   "source": [
    "# Do same for companies as well (Problem is fixed)\n",
    "companies[\"permalink\"] = companies[\"permalink\"].str.encode('utf-8').str.decode('ascii', 'ignore')\n",
    "companies.loc[~companies[\"permalink\"].isin(rounds[\"company_permalink\"]), :]"
   ]
  },
  {
   "cell_type": "markdown",
   "id": "15bc78c6",
   "metadata": {},
   "source": [
    "---------------------------------------------------------------------------------------------------------------------------"
   ]
  },
  {
   "cell_type": "code",
   "execution_count": 47,
   "id": "04785092",
   "metadata": {},
   "outputs": [
    {
     "data": {
      "text/html": [
       "<div>\n",
       "<style scoped>\n",
       "    .dataframe tbody tr th:only-of-type {\n",
       "        vertical-align: middle;\n",
       "    }\n",
       "\n",
       "    .dataframe tbody tr th {\n",
       "        vertical-align: top;\n",
       "    }\n",
       "\n",
       "    .dataframe thead th {\n",
       "        text-align: right;\n",
       "    }\n",
       "</style>\n",
       "<table border=\"1\" class=\"dataframe\">\n",
       "  <thead>\n",
       "    <tr style=\"text-align: right;\">\n",
       "      <th></th>\n",
       "      <th>company_permalink</th>\n",
       "      <th>funding_round_permalink</th>\n",
       "      <th>funding_round_type</th>\n",
       "      <th>funding_round_code</th>\n",
       "      <th>funded_at</th>\n",
       "      <th>raised_amount_usd</th>\n",
       "    </tr>\n",
       "  </thead>\n",
       "  <tbody>\n",
       "  </tbody>\n",
       "</table>\n",
       "</div>"
      ],
      "text/plain": [
       "Empty DataFrame\n",
       "Columns: [company_permalink, funding_round_permalink, funding_round_type, funding_round_code, funded_at, raised_amount_usd]\n",
       "Index: []"
      ]
     },
     "execution_count": 47,
     "metadata": {},
     "output_type": "execute_result"
    }
   ],
   "source": [
    "rounds.loc[~rounds[\"company_permalink\"].isin(companies[\"permalink\"])]"
   ]
  },
  {
   "cell_type": "markdown",
   "id": "ebb1a56a",
   "metadata": {},
   "source": [
    "---------------------------------------------------------------------------------------------------------------------------"
   ]
  },
  {
   "cell_type": "code",
   "execution_count": 49,
   "id": "e8efc285",
   "metadata": {},
   "outputs": [],
   "source": [
    "# Store clean files \n",
    "\n",
    "# save rounds file\n",
    "rounds.to_csv(\"rounds_clean.csv\", sep = \",\", index = False)\n",
    "\n",
    "# Save companies file\n",
    "companies.to_csv(\"companies_clean.csv\", sep = \",\", index = False)\n",
    "\n"
   ]
  },
  {
   "cell_type": "markdown",
   "id": "05b8ac5b",
   "metadata": {},
   "source": [
    "---------------------------------------------------------------------------------------------------------------------------"
   ]
  },
  {
   "cell_type": "markdown",
   "id": "97ea6fde",
   "metadata": {},
   "source": [
    "    Import cleaned dataset from directory"
   ]
  },
  {
   "cell_type": "code",
   "execution_count": 2,
   "id": "e8bd4460",
   "metadata": {},
   "outputs": [],
   "source": [
    "import numpy as np\n",
    "import pandas as pd\n",
    "import matplotlib.pyplot as plt\n",
    "import seaborn as sns"
   ]
  },
  {
   "cell_type": "code",
   "execution_count": 3,
   "id": "5235b366",
   "metadata": {},
   "outputs": [],
   "source": [
    "rounds = pd.read_csv(\"rounds_clean.csv\", sep = \",\", encoding = \"ISO-8859-1\")\n",
    "companies = pd.read_csv(\"companies_clean.csv\", sep = \",\", encoding = \"ISO-8859-1\")"
   ]
  },
  {
   "cell_type": "code",
   "execution_count": 3,
   "id": "8d46500f",
   "metadata": {},
   "outputs": [
    {
     "name": "stdout",
     "output_type": "stream",
     "text": [
      "66368\n",
      "66368\n"
     ]
    }
   ],
   "source": [
    "print(len(rounds[\"company_permalink\"].unique()))\n",
    "print(len(companies[\"permalink\"].unique()))"
   ]
  },
  {
   "cell_type": "code",
   "execution_count": 4,
   "id": "7194c8b0",
   "metadata": {},
   "outputs": [
    {
     "name": "stdout",
     "output_type": "stream",
     "text": [
      "66368\n",
      "66368\n"
     ]
    }
   ],
   "source": [
    "# OR\n",
    "print(rounds[\"company_permalink\"].nunique())\n",
    "print(companies[\"permalink\"].nunique())"
   ]
  },
  {
   "cell_type": "code",
   "execution_count": 6,
   "id": "1bbbd67d",
   "metadata": {},
   "outputs": [
    {
     "data": {
      "text/plain": [
       "0"
      ]
     },
     "execution_count": 6,
     "metadata": {},
     "output_type": "execute_result"
    }
   ],
   "source": [
    "len(rounds.loc[~rounds[\"company_permalink\"].isin(companies[\"permalink\"]), :])"
   ]
  },
  {
   "cell_type": "markdown",
   "id": "512e4960",
   "metadata": {},
   "source": [
    "---------------------------------------------------------------------------------------------------------------------------"
   ]
  },
  {
   "cell_type": "markdown",
   "id": "f59621d8",
   "metadata": {},
   "source": [
    "        *Missing Data -\n",
    "        "
   ]
  },
  {
   "cell_type": "code",
   "execution_count": 8,
   "id": "140e24f2",
   "metadata": {},
   "outputs": [
    {
     "data": {
      "text/plain": [
       "permalink            0\n",
       "name                 1\n",
       "homepage_url      5058\n",
       "category_list     3148\n",
       "status               0\n",
       "country_code      6958\n",
       "state_code        8547\n",
       "region            8030\n",
       "city              8028\n",
       "founded_at       15221\n",
       "dtype: int64"
      ]
     },
     "execution_count": 8,
     "metadata": {},
     "output_type": "execute_result"
    }
   ],
   "source": [
    "companies.isnull().sum()"
   ]
  },
  {
   "cell_type": "code",
   "execution_count": 9,
   "id": "1fd2e23d",
   "metadata": {},
   "outputs": [
    {
     "data": {
      "text/plain": [
       "company_permalink              0\n",
       "funding_round_permalink        0\n",
       "funding_round_type             0\n",
       "funding_round_code         83809\n",
       "funded_at                      0\n",
       "raised_amount_usd          19990\n",
       "dtype: int64"
      ]
     },
     "execution_count": 9,
     "metadata": {},
     "output_type": "execute_result"
    }
   ],
   "source": [
    "rounds.isnull().sum()"
   ]
  },
  {
   "cell_type": "code",
   "execution_count": 10,
   "id": "8ccb814c",
   "metadata": {},
   "outputs": [],
   "source": [
    "master = companies.merge(rounds, how = \"inner\", left_on = \"permalink\", right_on = \"company_permalink\")"
   ]
  },
  {
   "cell_type": "code",
   "execution_count": 11,
   "id": "99b675a0",
   "metadata": {},
   "outputs": [
    {
     "name": "stdout",
     "output_type": "stream",
     "text": [
      "<class 'pandas.core.frame.DataFrame'>\n",
      "Int64Index: 114949 entries, 0 to 114948\n",
      "Data columns (total 16 columns):\n",
      " #   Column                   Non-Null Count   Dtype  \n",
      "---  ------                   --------------   -----  \n",
      " 0   permalink                114949 non-null  object \n",
      " 1   name                     114948 non-null  object \n",
      " 2   homepage_url             108815 non-null  object \n",
      " 3   category_list            111539 non-null  object \n",
      " 4   status                   114949 non-null  object \n",
      " 5   country_code             106271 non-null  object \n",
      " 6   state_code               104003 non-null  object \n",
      " 7   region                   104782 non-null  object \n",
      " 8   city                     104785 non-null  object \n",
      " 9   founded_at               94428 non-null   object \n",
      " 10  company_permalink        114949 non-null  object \n",
      " 11  funding_round_permalink  114949 non-null  object \n",
      " 12  funding_round_type       114949 non-null  object \n",
      " 13  funding_round_code       31140 non-null   object \n",
      " 14  funded_at                114949 non-null  object \n",
      " 15  raised_amount_usd        94959 non-null   float64\n",
      "dtypes: float64(1), object(15)\n",
      "memory usage: 14.9+ MB\n"
     ]
    }
   ],
   "source": [
    "master.info()"
   ]
  },
  {
   "cell_type": "code",
   "execution_count": 12,
   "id": "7c81e614",
   "metadata": {},
   "outputs": [
    {
     "data": {
      "text/html": [
       "<div>\n",
       "<style scoped>\n",
       "    .dataframe tbody tr th:only-of-type {\n",
       "        vertical-align: middle;\n",
       "    }\n",
       "\n",
       "    .dataframe tbody tr th {\n",
       "        vertical-align: top;\n",
       "    }\n",
       "\n",
       "    .dataframe thead th {\n",
       "        text-align: right;\n",
       "    }\n",
       "</style>\n",
       "<table border=\"1\" class=\"dataframe\">\n",
       "  <thead>\n",
       "    <tr style=\"text-align: right;\">\n",
       "      <th></th>\n",
       "      <th>permalink</th>\n",
       "      <th>name</th>\n",
       "      <th>homepage_url</th>\n",
       "      <th>category_list</th>\n",
       "      <th>status</th>\n",
       "      <th>country_code</th>\n",
       "      <th>state_code</th>\n",
       "      <th>region</th>\n",
       "      <th>city</th>\n",
       "      <th>founded_at</th>\n",
       "      <th>company_permalink</th>\n",
       "      <th>funding_round_permalink</th>\n",
       "      <th>funding_round_type</th>\n",
       "      <th>funding_round_code</th>\n",
       "      <th>funded_at</th>\n",
       "      <th>raised_amount_usd</th>\n",
       "    </tr>\n",
       "  </thead>\n",
       "  <tbody>\n",
       "    <tr>\n",
       "      <th>0</th>\n",
       "      <td>/organization/-fame</td>\n",
       "      <td>#fame</td>\n",
       "      <td>http://livfame.com</td>\n",
       "      <td>Media</td>\n",
       "      <td>operating</td>\n",
       "      <td>IND</td>\n",
       "      <td>16</td>\n",
       "      <td>Mumbai</td>\n",
       "      <td>Mumbai</td>\n",
       "      <td>NaN</td>\n",
       "      <td>/organization/-fame</td>\n",
       "      <td>/funding-round/9a01d05418af9f794eebff7ace91f638</td>\n",
       "      <td>venture</td>\n",
       "      <td>B</td>\n",
       "      <td>05-01-2015</td>\n",
       "      <td>10000000.0</td>\n",
       "    </tr>\n",
       "    <tr>\n",
       "      <th>1</th>\n",
       "      <td>/organization/-qounter</td>\n",
       "      <td>:Qounter</td>\n",
       "      <td>http://www.qounter.com</td>\n",
       "      <td>Application Platforms|Real Time|Social Network...</td>\n",
       "      <td>operating</td>\n",
       "      <td>USA</td>\n",
       "      <td>DE</td>\n",
       "      <td>DE - Other</td>\n",
       "      <td>Delaware City</td>\n",
       "      <td>04-09-2014</td>\n",
       "      <td>/organization/-qounter</td>\n",
       "      <td>/funding-round/22dacff496eb7acb2b901dec1dfe5633</td>\n",
       "      <td>venture</td>\n",
       "      <td>A</td>\n",
       "      <td>14-10-2014</td>\n",
       "      <td>NaN</td>\n",
       "    </tr>\n",
       "    <tr>\n",
       "      <th>2</th>\n",
       "      <td>/organization/-qounter</td>\n",
       "      <td>:Qounter</td>\n",
       "      <td>http://www.qounter.com</td>\n",
       "      <td>Application Platforms|Real Time|Social Network...</td>\n",
       "      <td>operating</td>\n",
       "      <td>USA</td>\n",
       "      <td>DE</td>\n",
       "      <td>DE - Other</td>\n",
       "      <td>Delaware City</td>\n",
       "      <td>04-09-2014</td>\n",
       "      <td>/organization/-qounter</td>\n",
       "      <td>/funding-round/b44fbb94153f6cdef13083530bb48030</td>\n",
       "      <td>seed</td>\n",
       "      <td>NaN</td>\n",
       "      <td>01-03-2014</td>\n",
       "      <td>700000.0</td>\n",
       "    </tr>\n",
       "    <tr>\n",
       "      <th>3</th>\n",
       "      <td>/organization/-the-one-of-them-inc-</td>\n",
       "      <td>(THE) ONE of THEM,Inc.</td>\n",
       "      <td>http://oneofthem.jp</td>\n",
       "      <td>Apps|Games|Mobile</td>\n",
       "      <td>operating</td>\n",
       "      <td>NaN</td>\n",
       "      <td>NaN</td>\n",
       "      <td>NaN</td>\n",
       "      <td>NaN</td>\n",
       "      <td>NaN</td>\n",
       "      <td>/organization/-the-one-of-them-inc-</td>\n",
       "      <td>/funding-round/650b8f704416801069bb178a1418776b</td>\n",
       "      <td>venture</td>\n",
       "      <td>B</td>\n",
       "      <td>30-01-2014</td>\n",
       "      <td>3406878.0</td>\n",
       "    </tr>\n",
       "    <tr>\n",
       "      <th>4</th>\n",
       "      <td>/organization/0-6-com</td>\n",
       "      <td>0-6.com</td>\n",
       "      <td>http://www.0-6.com</td>\n",
       "      <td>Curated Web</td>\n",
       "      <td>operating</td>\n",
       "      <td>CHN</td>\n",
       "      <td>22</td>\n",
       "      <td>Beijing</td>\n",
       "      <td>Beijing</td>\n",
       "      <td>01-01-2007</td>\n",
       "      <td>/organization/0-6-com</td>\n",
       "      <td>/funding-round/5727accaeaa57461bd22a9bdd945382d</td>\n",
       "      <td>venture</td>\n",
       "      <td>A</td>\n",
       "      <td>19-03-2008</td>\n",
       "      <td>2000000.0</td>\n",
       "    </tr>\n",
       "  </tbody>\n",
       "</table>\n",
       "</div>"
      ],
      "text/plain": [
       "                             permalink                    name  \\\n",
       "0                  /organization/-fame                   #fame   \n",
       "1               /organization/-qounter                :Qounter   \n",
       "2               /organization/-qounter                :Qounter   \n",
       "3  /organization/-the-one-of-them-inc-  (THE) ONE of THEM,Inc.   \n",
       "4                /organization/0-6-com                 0-6.com   \n",
       "\n",
       "             homepage_url                                      category_list  \\\n",
       "0      http://livfame.com                                              Media   \n",
       "1  http://www.qounter.com  Application Platforms|Real Time|Social Network...   \n",
       "2  http://www.qounter.com  Application Platforms|Real Time|Social Network...   \n",
       "3     http://oneofthem.jp                                  Apps|Games|Mobile   \n",
       "4      http://www.0-6.com                                        Curated Web   \n",
       "\n",
       "      status country_code state_code      region           city  founded_at  \\\n",
       "0  operating          IND         16      Mumbai         Mumbai         NaN   \n",
       "1  operating          USA         DE  DE - Other  Delaware City  04-09-2014   \n",
       "2  operating          USA         DE  DE - Other  Delaware City  04-09-2014   \n",
       "3  operating          NaN        NaN         NaN            NaN         NaN   \n",
       "4  operating          CHN         22     Beijing        Beijing  01-01-2007   \n",
       "\n",
       "                     company_permalink  \\\n",
       "0                  /organization/-fame   \n",
       "1               /organization/-qounter   \n",
       "2               /organization/-qounter   \n",
       "3  /organization/-the-one-of-them-inc-   \n",
       "4                /organization/0-6-com   \n",
       "\n",
       "                           funding_round_permalink funding_round_type  \\\n",
       "0  /funding-round/9a01d05418af9f794eebff7ace91f638            venture   \n",
       "1  /funding-round/22dacff496eb7acb2b901dec1dfe5633            venture   \n",
       "2  /funding-round/b44fbb94153f6cdef13083530bb48030               seed   \n",
       "3  /funding-round/650b8f704416801069bb178a1418776b            venture   \n",
       "4  /funding-round/5727accaeaa57461bd22a9bdd945382d            venture   \n",
       "\n",
       "  funding_round_code   funded_at  raised_amount_usd  \n",
       "0                  B  05-01-2015         10000000.0  \n",
       "1                  A  14-10-2014                NaN  \n",
       "2                NaN  01-03-2014           700000.0  \n",
       "3                  B  30-01-2014          3406878.0  \n",
       "4                  A  19-03-2008          2000000.0  "
      ]
     },
     "execution_count": 12,
     "metadata": {},
     "output_type": "execute_result"
    }
   ],
   "source": [
    "master.head()"
   ]
  },
  {
   "cell_type": "code",
   "execution_count": 13,
   "id": "11a2330b",
   "metadata": {},
   "outputs": [
    {
     "data": {
      "text/plain": [
       "Index(['permalink', 'name', 'homepage_url', 'category_list', 'status',\n",
       "       'country_code', 'state_code', 'region', 'city', 'founded_at',\n",
       "       'company_permalink', 'funding_round_permalink', 'funding_round_type',\n",
       "       'funding_round_code', 'funded_at', 'raised_amount_usd'],\n",
       "      dtype='object')"
      ]
     },
     "execution_count": 13,
     "metadata": {},
     "output_type": "execute_result"
    }
   ],
   "source": [
    "master.columns"
   ]
  },
  {
   "cell_type": "code",
   "execution_count": 14,
   "id": "0426ed86",
   "metadata": {},
   "outputs": [],
   "source": [
    "master = master.drop([\"company_permalink\"], axis = 1)"
   ]
  },
  {
   "cell_type": "code",
   "execution_count": 15,
   "id": "36f8cf61",
   "metadata": {},
   "outputs": [
    {
     "data": {
      "text/plain": [
       "Index(['permalink', 'name', 'homepage_url', 'category_list', 'status',\n",
       "       'country_code', 'state_code', 'region', 'city', 'founded_at',\n",
       "       'funding_round_permalink', 'funding_round_type', 'funding_round_code',\n",
       "       'funded_at', 'raised_amount_usd'],\n",
       "      dtype='object')"
      ]
     },
     "execution_count": 15,
     "metadata": {},
     "output_type": "execute_result"
    }
   ],
   "source": [
    "master.columns"
   ]
  },
  {
   "cell_type": "code",
   "execution_count": 16,
   "id": "c3b20daa",
   "metadata": {},
   "outputs": [
    {
     "data": {
      "text/plain": [
       "permalink                      0\n",
       "name                           1\n",
       "homepage_url                6134\n",
       "category_list               3410\n",
       "status                         0\n",
       "country_code                8678\n",
       "state_code                 10946\n",
       "region                     10167\n",
       "city                       10164\n",
       "founded_at                 20521\n",
       "funding_round_permalink        0\n",
       "funding_round_type             0\n",
       "funding_round_code         83809\n",
       "funded_at                      0\n",
       "raised_amount_usd          19990\n",
       "dtype: int64"
      ]
     },
     "execution_count": 16,
     "metadata": {},
     "output_type": "execute_result"
    }
   ],
   "source": [
    "master.isnull().sum()"
   ]
  },
  {
   "cell_type": "code",
   "execution_count": 19,
   "id": "a59ed6f4",
   "metadata": {},
   "outputs": [
    {
     "data": {
      "text/plain": [
       "permalink                   0.00\n",
       "name                        0.00\n",
       "homepage_url                5.34\n",
       "category_list               2.97\n",
       "status                      0.00\n",
       "country_code                7.55\n",
       "state_code                  9.52\n",
       "region                      8.84\n",
       "city                        8.84\n",
       "founded_at                 17.85\n",
       "funding_round_permalink     0.00\n",
       "funding_round_type          0.00\n",
       "funding_round_code         72.91\n",
       "funded_at                   0.00\n",
       "raised_amount_usd          17.39\n",
       "dtype: float64"
      ]
     },
     "execution_count": 19,
     "metadata": {},
     "output_type": "execute_result"
    }
   ],
   "source": [
    "# See the percentage of null data\n",
    "round((100 * (master.isnull().sum()) / len(master.index) ),2)"
   ]
  },
  {
   "cell_type": "code",
   "execution_count": null,
   "id": "6d1b3430",
   "metadata": {
    "scrolled": true
   },
   "outputs": [],
   "source": [
    "# Drop unnecessary columns from above null data\n",
    "master = master.drop([\"funding_round_code\", \"homepage_url\", \"state_code\", \"region\", \"city\", \"founded_at\"], axis = 1)"
   ]
  },
  {
   "cell_type": "code",
   "execution_count": 27,
   "id": "34f9e963",
   "metadata": {},
   "outputs": [
    {
     "data": {
      "text/html": [
       "<div>\n",
       "<style scoped>\n",
       "    .dataframe tbody tr th:only-of-type {\n",
       "        vertical-align: middle;\n",
       "    }\n",
       "\n",
       "    .dataframe tbody tr th {\n",
       "        vertical-align: top;\n",
       "    }\n",
       "\n",
       "    .dataframe thead th {\n",
       "        text-align: right;\n",
       "    }\n",
       "</style>\n",
       "<table border=\"1\" class=\"dataframe\">\n",
       "  <thead>\n",
       "    <tr style=\"text-align: right;\">\n",
       "      <th></th>\n",
       "      <th>permalink</th>\n",
       "      <th>name</th>\n",
       "      <th>category_list</th>\n",
       "      <th>status</th>\n",
       "      <th>country_code</th>\n",
       "      <th>funding_round_permalink</th>\n",
       "      <th>funding_round_type</th>\n",
       "      <th>funded_at</th>\n",
       "      <th>raised_amount_usd</th>\n",
       "    </tr>\n",
       "  </thead>\n",
       "  <tbody>\n",
       "    <tr>\n",
       "      <th>0</th>\n",
       "      <td>/organization/-fame</td>\n",
       "      <td>#fame</td>\n",
       "      <td>Media</td>\n",
       "      <td>operating</td>\n",
       "      <td>IND</td>\n",
       "      <td>/funding-round/9a01d05418af9f794eebff7ace91f638</td>\n",
       "      <td>venture</td>\n",
       "      <td>05-01-2015</td>\n",
       "      <td>10000000.0</td>\n",
       "    </tr>\n",
       "    <tr>\n",
       "      <th>1</th>\n",
       "      <td>/organization/-qounter</td>\n",
       "      <td>:Qounter</td>\n",
       "      <td>Application Platforms|Real Time|Social Network...</td>\n",
       "      <td>operating</td>\n",
       "      <td>USA</td>\n",
       "      <td>/funding-round/22dacff496eb7acb2b901dec1dfe5633</td>\n",
       "      <td>venture</td>\n",
       "      <td>14-10-2014</td>\n",
       "      <td>NaN</td>\n",
       "    </tr>\n",
       "    <tr>\n",
       "      <th>2</th>\n",
       "      <td>/organization/-qounter</td>\n",
       "      <td>:Qounter</td>\n",
       "      <td>Application Platforms|Real Time|Social Network...</td>\n",
       "      <td>operating</td>\n",
       "      <td>USA</td>\n",
       "      <td>/funding-round/b44fbb94153f6cdef13083530bb48030</td>\n",
       "      <td>seed</td>\n",
       "      <td>01-03-2014</td>\n",
       "      <td>700000.0</td>\n",
       "    </tr>\n",
       "    <tr>\n",
       "      <th>3</th>\n",
       "      <td>/organization/-the-one-of-them-inc-</td>\n",
       "      <td>(THE) ONE of THEM,Inc.</td>\n",
       "      <td>Apps|Games|Mobile</td>\n",
       "      <td>operating</td>\n",
       "      <td>NaN</td>\n",
       "      <td>/funding-round/650b8f704416801069bb178a1418776b</td>\n",
       "      <td>venture</td>\n",
       "      <td>30-01-2014</td>\n",
       "      <td>3406878.0</td>\n",
       "    </tr>\n",
       "    <tr>\n",
       "      <th>4</th>\n",
       "      <td>/organization/0-6-com</td>\n",
       "      <td>0-6.com</td>\n",
       "      <td>Curated Web</td>\n",
       "      <td>operating</td>\n",
       "      <td>CHN</td>\n",
       "      <td>/funding-round/5727accaeaa57461bd22a9bdd945382d</td>\n",
       "      <td>venture</td>\n",
       "      <td>19-03-2008</td>\n",
       "      <td>2000000.0</td>\n",
       "    </tr>\n",
       "  </tbody>\n",
       "</table>\n",
       "</div>"
      ],
      "text/plain": [
       "                             permalink                    name  \\\n",
       "0                  /organization/-fame                   #fame   \n",
       "1               /organization/-qounter                :Qounter   \n",
       "2               /organization/-qounter                :Qounter   \n",
       "3  /organization/-the-one-of-them-inc-  (THE) ONE of THEM,Inc.   \n",
       "4                /organization/0-6-com                 0-6.com   \n",
       "\n",
       "                                       category_list     status country_code  \\\n",
       "0                                              Media  operating          IND   \n",
       "1  Application Platforms|Real Time|Social Network...  operating          USA   \n",
       "2  Application Platforms|Real Time|Social Network...  operating          USA   \n",
       "3                                  Apps|Games|Mobile  operating          NaN   \n",
       "4                                        Curated Web  operating          CHN   \n",
       "\n",
       "                           funding_round_permalink funding_round_type  \\\n",
       "0  /funding-round/9a01d05418af9f794eebff7ace91f638            venture   \n",
       "1  /funding-round/22dacff496eb7acb2b901dec1dfe5633            venture   \n",
       "2  /funding-round/b44fbb94153f6cdef13083530bb48030               seed   \n",
       "3  /funding-round/650b8f704416801069bb178a1418776b            venture   \n",
       "4  /funding-round/5727accaeaa57461bd22a9bdd945382d            venture   \n",
       "\n",
       "    funded_at  raised_amount_usd  \n",
       "0  05-01-2015         10000000.0  \n",
       "1  14-10-2014                NaN  \n",
       "2  01-03-2014           700000.0  \n",
       "3  30-01-2014          3406878.0  \n",
       "4  19-03-2008          2000000.0  "
      ]
     },
     "execution_count": 27,
     "metadata": {},
     "output_type": "execute_result"
    }
   ],
   "source": [
    "master.head()"
   ]
  },
  {
   "cell_type": "code",
   "execution_count": 31,
   "id": "34dcfc82",
   "metadata": {},
   "outputs": [
    {
     "data": {
      "text/plain": [
       "permalink                   0.00\n",
       "name                        0.00\n",
       "category_list               2.97\n",
       "status                      0.00\n",
       "country_code                7.55\n",
       "funding_round_permalink     0.00\n",
       "funding_round_type          0.00\n",
       "funded_at                   0.00\n",
       "raised_amount_usd          17.39\n",
       "dtype: float64"
      ]
     },
     "execution_count": 31,
     "metadata": {},
     "output_type": "execute_result"
    }
   ],
   "source": [
    "round(100 * ((master.isnull().sum()) / len(master.index)),2)"
   ]
  },
  {
   "cell_type": "markdown",
   "id": "a6bfc3f3",
   "metadata": {},
   "source": [
    "---------------------------------------------------------------------------------------------------------------------------"
   ]
  },
  {
   "cell_type": "markdown",
   "id": "796f0cf1",
   "metadata": {},
   "source": [
    "    The column which are necessary but are having null values\n",
    "    (Data cleaning of these columns)\n",
    "    \n",
    "        ---> Always check for mean & median values differences."
   ]
  },
  {
   "cell_type": "code",
   "execution_count": 32,
   "id": "db22c566",
   "metadata": {},
   "outputs": [
    {
     "data": {
      "text/plain": [
       "count    9.495900e+04\n",
       "mean     1.042687e+07\n",
       "std      1.148212e+08\n",
       "min      0.000000e+00\n",
       "25%      3.225000e+05\n",
       "50%      1.680511e+06\n",
       "75%      7.000000e+06\n",
       "max      2.127194e+10\n",
       "Name: raised_amount_usd, dtype: float64"
      ]
     },
     "execution_count": 32,
     "metadata": {},
     "output_type": "execute_result"
    }
   ],
   "source": [
    "master[\"raised_amount_usd\"].describe()"
   ]
  },
  {
   "cell_type": "code",
   "execution_count": 54,
   "id": "a3cfde93",
   "metadata": {},
   "outputs": [],
   "source": [
    "master = master[~pd.isnull(master[\"raised_amount_usd\"])]"
   ]
  },
  {
   "cell_type": "code",
   "execution_count": 55,
   "id": "cb114cc0",
   "metadata": {},
   "outputs": [
    {
     "data": {
      "text/plain": [
       "permalink                  0.00\n",
       "name                       0.00\n",
       "category_list              0.65\n",
       "status                     0.00\n",
       "country_code               0.00\n",
       "funding_round_permalink    0.00\n",
       "funding_round_type         0.00\n",
       "funded_at                  0.00\n",
       "raised_amount_usd          0.00\n",
       "dtype: float64"
      ]
     },
     "execution_count": 55,
     "metadata": {},
     "output_type": "execute_result"
    }
   ],
   "source": [
    "round(100 * (master.isnull().sum() / len(master.index)),2)"
   ]
  },
  {
   "cell_type": "code",
   "execution_count": 36,
   "id": "6d063177",
   "metadata": {},
   "outputs": [
    {
     "data": {
      "text/plain": [
       "(94959, 9)"
      ]
     },
     "execution_count": 36,
     "metadata": {},
     "output_type": "execute_result"
    }
   ],
   "source": [
    "master.shape"
   ]
  },
  {
   "cell_type": "markdown",
   "id": "4587b3e0",
   "metadata": {},
   "source": [
    "    **Note - \n",
    "        \n",
    "        1) Pattern 1 = large data + skewed median & avg ---> delete data\n",
    "        \n",
    "        2) Pattern 2 = small data ---> replace with median"
   ]
  },
  {
   "cell_type": "markdown",
   "id": "2f91ab9a",
   "metadata": {},
   "source": [
    "---------------------------------------------------------------------------------------------------------------------------"
   ]
  },
  {
   "cell_type": "code",
   "execution_count": 37,
   "id": "9c4c920e",
   "metadata": {},
   "outputs": [
    {
     "name": "stdout",
     "output_type": "stream",
     "text": [
      "<class 'pandas.core.frame.DataFrame'>\n",
      "Int64Index: 94959 entries, 0 to 114948\n",
      "Data columns (total 9 columns):\n",
      " #   Column                   Non-Null Count  Dtype  \n",
      "---  ------                   --------------  -----  \n",
      " 0   permalink                94959 non-null  object \n",
      " 1   name                     94958 non-null  object \n",
      " 2   category_list            93915 non-null  object \n",
      " 3   status                   94959 non-null  object \n",
      " 4   country_code             89108 non-null  object \n",
      " 5   funding_round_permalink  94959 non-null  object \n",
      " 6   funding_round_type       94959 non-null  object \n",
      " 7   funded_at                94959 non-null  object \n",
      " 8   raised_amount_usd        94959 non-null  float64\n",
      "dtypes: float64(1), object(8)\n",
      "memory usage: 7.2+ MB\n"
     ]
    }
   ],
   "source": [
    "master.info()"
   ]
  },
  {
   "cell_type": "markdown",
   "id": "fcfb8383",
   "metadata": {},
   "source": [
    "    country_code is in object data type...\n",
    "    \n",
    "        Object consumes more space.\n",
    "        \n",
    "        hence convert to category"
   ]
  },
  {
   "cell_type": "code",
   "execution_count": 38,
   "id": "49c41845",
   "metadata": {},
   "outputs": [],
   "source": [
    "country_code = master[\"country_code\"].astype(\"category\")"
   ]
  },
  {
   "cell_type": "code",
   "execution_count": 40,
   "id": "3da94f82",
   "metadata": {},
   "outputs": [
    {
     "name": "stdout",
     "output_type": "stream",
     "text": [
      "<class 'pandas.core.frame.DataFrame'>\n",
      "Int64Index: 94959 entries, 0 to 114948\n",
      "Data columns (total 9 columns):\n",
      " #   Column                   Non-Null Count  Dtype  \n",
      "---  ------                   --------------  -----  \n",
      " 0   permalink                94959 non-null  object \n",
      " 1   name                     94958 non-null  object \n",
      " 2   category_list            93915 non-null  object \n",
      " 3   status                   94959 non-null  object \n",
      " 4   country_code             89108 non-null  object \n",
      " 5   funding_round_permalink  94959 non-null  object \n",
      " 6   funding_round_type       94959 non-null  object \n",
      " 7   funded_at                94959 non-null  object \n",
      " 8   raised_amount_usd        94959 non-null  float64\n",
      "dtypes: float64(1), object(8)\n",
      "memory usage: 7.2+ MB\n"
     ]
    }
   ],
   "source": [
    "master.info()   # ---> Ineternally converted"
   ]
  },
  {
   "cell_type": "code",
   "execution_count": 42,
   "id": "e5285cbc",
   "metadata": {},
   "outputs": [
    {
     "data": {
      "text/plain": [
       "USA    62049\n",
       "GBR     5019\n",
       "CAN     2616\n",
       "CHN     1927\n",
       "IND     1649\n",
       "       ...  \n",
       "SYC        1\n",
       "KNA        1\n",
       "SEN        1\n",
       "LAO        1\n",
       "PRY        1\n",
       "Name: country_code, Length: 134, dtype: int64"
      ]
     },
     "execution_count": 42,
     "metadata": {},
     "output_type": "execute_result"
    }
   ],
   "source": [
    "country_code.value_counts()"
   ]
  },
  {
   "cell_type": "code",
   "execution_count": 43,
   "id": "efc2fe61",
   "metadata": {},
   "outputs": [
    {
     "data": {
      "text/plain": [
       "USA    65.342937\n",
       "GBR     5.285439\n",
       "CAN     2.754873\n",
       "CHN     2.029297\n",
       "IND     1.736539\n",
       "         ...    \n",
       "HND     0.001053\n",
       "GGY     0.001053\n",
       "TGO     0.001053\n",
       "MNE     0.001053\n",
       "SEN     0.001053\n",
       "Name: country_code, Length: 134, dtype: float64"
      ]
     },
     "execution_count": 43,
     "metadata": {},
     "output_type": "execute_result"
    }
   ],
   "source": [
    "100 * (master[\"country_code\"].value_counts() / len(master.index))"
   ]
  },
  {
   "cell_type": "code",
   "execution_count": 44,
   "id": "511973d6",
   "metadata": {},
   "outputs": [],
   "source": [
    "master = master[~pd.isnull(master[\"country_code\"])]"
   ]
  },
  {
   "cell_type": "code",
   "execution_count": 52,
   "id": "b300158a",
   "metadata": {},
   "outputs": [
    {
     "data": {
      "text/plain": [
       "permalink                  0.00\n",
       "name                       0.00\n",
       "category_list              0.65\n",
       "status                     0.00\n",
       "country_code               0.00\n",
       "funding_round_permalink    0.00\n",
       "funding_round_type         0.00\n",
       "funded_at                  0.00\n",
       "raised_amount_usd          0.00\n",
       "dtype: float64"
      ]
     },
     "execution_count": 52,
     "metadata": {},
     "output_type": "execute_result"
    }
   ],
   "source": [
    "round(100 *  (master.isnull().sum()/ len(master.index) ),2)"
   ]
  },
  {
   "cell_type": "markdown",
   "id": "efbf2213",
   "metadata": {},
   "source": [
    "---------------------------------------------------------------------------------------------------------------------------"
   ]
  },
  {
   "cell_type": "code",
   "execution_count": 59,
   "id": "b6be7913",
   "metadata": {},
   "outputs": [],
   "source": [
    "master = master[~pd.isnull(master[\"category_list\"])]"
   ]
  },
  {
   "cell_type": "code",
   "execution_count": 61,
   "id": "40ec0938",
   "metadata": {},
   "outputs": [
    {
     "data": {
      "text/plain": [
       "permalink                  0.0\n",
       "name                       0.0\n",
       "category_list              0.0\n",
       "status                     0.0\n",
       "country_code               0.0\n",
       "funding_round_permalink    0.0\n",
       "funding_round_type         0.0\n",
       "funded_at                  0.0\n",
       "raised_amount_usd          0.0\n",
       "dtype: float64"
      ]
     },
     "execution_count": 61,
     "metadata": {},
     "output_type": "execute_result"
    }
   ],
   "source": [
    "round(100 *(master.isnull().sum() / len(master.index)),2)"
   ]
  },
  {
   "cell_type": "code",
   "execution_count": 64,
   "id": "353bacfc",
   "metadata": {},
   "outputs": [
    {
     "data": {
      "text/plain": [
       "(88529, 9)"
      ]
     },
     "execution_count": 64,
     "metadata": {},
     "output_type": "execute_result"
    }
   ],
   "source": [
    "master.shape"
   ]
  },
  {
   "cell_type": "code",
   "execution_count": 66,
   "id": "d2b90766",
   "metadata": {},
   "outputs": [],
   "source": [
    "master.to_csv(\"master_df.csv\", sep = \",\", index = False)"
   ]
  },
  {
   "cell_type": "markdown",
   "id": "00a84373",
   "metadata": {},
   "source": [
    "---------------------------------------------------------------------------------------------------------------------------"
   ]
  },
  {
   "cell_type": "code",
   "execution_count": 68,
   "id": "b160b231",
   "metadata": {},
   "outputs": [
    {
     "name": "stdout",
     "output_type": "stream",
     "text": [
      "<class 'pandas.core.frame.DataFrame'>\n",
      "Int64Index: 88529 entries, 0 to 114947\n",
      "Data columns (total 9 columns):\n",
      " #   Column                   Non-Null Count  Dtype  \n",
      "---  ------                   --------------  -----  \n",
      " 0   permalink                88529 non-null  object \n",
      " 1   name                     88528 non-null  object \n",
      " 2   category_list            88529 non-null  object \n",
      " 3   status                   88529 non-null  object \n",
      " 4   country_code             88529 non-null  object \n",
      " 5   funding_round_permalink  88529 non-null  object \n",
      " 6   funding_round_type       88529 non-null  object \n",
      " 7   funded_at                88529 non-null  object \n",
      " 8   raised_amount_usd        88529 non-null  float64\n",
      "dtypes: float64(1), object(8)\n",
      "memory usage: 6.8+ MB\n"
     ]
    }
   ],
   "source": [
    "master.info()"
   ]
  },
  {
   "cell_type": "code",
   "execution_count": 70,
   "id": "be7cfca0",
   "metadata": {},
   "outputs": [
    {
     "data": {
      "text/plain": [
       "77.01589400516751"
      ]
     },
     "execution_count": 70,
     "metadata": {},
     "output_type": "execute_result"
    }
   ],
   "source": [
    "100 * (len(master.index) / len(rounds.index))"
   ]
  },
  {
   "cell_type": "markdown",
   "id": "97651db5",
   "metadata": {},
   "source": [
    "---------------------------------------------------------------------------------------------------------------------------"
   ]
  },
  {
   "cell_type": "markdown",
   "id": "75b00f3b",
   "metadata": {},
   "source": [
    "    **Funding Type Analysis -"
   ]
  },
  {
   "cell_type": "code",
   "execution_count": 24,
   "id": "32488907",
   "metadata": {},
   "outputs": [],
   "source": [
    "import numpy as np\n",
    "import pandas as pd\n",
    "import matplotlib.pyplot as plt\n",
    "import seaborn as sns"
   ]
  },
  {
   "cell_type": "code",
   "execution_count": 5,
   "id": "b25cc94a",
   "metadata": {},
   "outputs": [],
   "source": [
    "df = pd.read_csv(\"master_df.csv\", sep = \",\", encoding = \"ISO- 8859-1\")"
   ]
  },
  {
   "cell_type": "code",
   "execution_count": 6,
   "id": "e49b1ba8",
   "metadata": {},
   "outputs": [
    {
     "data": {
      "text/html": [
       "<div>\n",
       "<style scoped>\n",
       "    .dataframe tbody tr th:only-of-type {\n",
       "        vertical-align: middle;\n",
       "    }\n",
       "\n",
       "    .dataframe tbody tr th {\n",
       "        vertical-align: top;\n",
       "    }\n",
       "\n",
       "    .dataframe thead th {\n",
       "        text-align: right;\n",
       "    }\n",
       "</style>\n",
       "<table border=\"1\" class=\"dataframe\">\n",
       "  <thead>\n",
       "    <tr style=\"text-align: right;\">\n",
       "      <th></th>\n",
       "      <th>permalink</th>\n",
       "      <th>name</th>\n",
       "      <th>category_list</th>\n",
       "      <th>status</th>\n",
       "      <th>country_code</th>\n",
       "      <th>funding_round_permalink</th>\n",
       "      <th>funding_round_type</th>\n",
       "      <th>funded_at</th>\n",
       "      <th>raised_amount_usd</th>\n",
       "    </tr>\n",
       "  </thead>\n",
       "  <tbody>\n",
       "    <tr>\n",
       "      <th>0</th>\n",
       "      <td>/organization/-fame</td>\n",
       "      <td>#fame</td>\n",
       "      <td>Media</td>\n",
       "      <td>operating</td>\n",
       "      <td>IND</td>\n",
       "      <td>/funding-round/9a01d05418af9f794eebff7ace91f638</td>\n",
       "      <td>venture</td>\n",
       "      <td>05-01-2015</td>\n",
       "      <td>10000000.0</td>\n",
       "    </tr>\n",
       "    <tr>\n",
       "      <th>1</th>\n",
       "      <td>/organization/-qounter</td>\n",
       "      <td>:Qounter</td>\n",
       "      <td>Application Platforms|Real Time|Social Network...</td>\n",
       "      <td>operating</td>\n",
       "      <td>USA</td>\n",
       "      <td>/funding-round/b44fbb94153f6cdef13083530bb48030</td>\n",
       "      <td>seed</td>\n",
       "      <td>01-03-2014</td>\n",
       "      <td>700000.0</td>\n",
       "    </tr>\n",
       "    <tr>\n",
       "      <th>2</th>\n",
       "      <td>/organization/0-6-com</td>\n",
       "      <td>0-6.com</td>\n",
       "      <td>Curated Web</td>\n",
       "      <td>operating</td>\n",
       "      <td>CHN</td>\n",
       "      <td>/funding-round/5727accaeaa57461bd22a9bdd945382d</td>\n",
       "      <td>venture</td>\n",
       "      <td>19-03-2008</td>\n",
       "      <td>2000000.0</td>\n",
       "    </tr>\n",
       "    <tr>\n",
       "      <th>3</th>\n",
       "      <td>/organization/01games-technology</td>\n",
       "      <td>01Games Technology</td>\n",
       "      <td>Games</td>\n",
       "      <td>operating</td>\n",
       "      <td>HKG</td>\n",
       "      <td>/funding-round/7d53696f2b4f607a2f2a8cbb83d01839</td>\n",
       "      <td>undisclosed</td>\n",
       "      <td>01-07-2014</td>\n",
       "      <td>41250.0</td>\n",
       "    </tr>\n",
       "    <tr>\n",
       "      <th>4</th>\n",
       "      <td>/organization/0ndine-biomedical-inc</td>\n",
       "      <td>Ondine Biomedical Inc.</td>\n",
       "      <td>Biotechnology</td>\n",
       "      <td>operating</td>\n",
       "      <td>CAN</td>\n",
       "      <td>/funding-round/2b9d3ac293d5cdccbecff5c8cb0f327d</td>\n",
       "      <td>seed</td>\n",
       "      <td>11-09-2009</td>\n",
       "      <td>43360.0</td>\n",
       "    </tr>\n",
       "  </tbody>\n",
       "</table>\n",
       "</div>"
      ],
      "text/plain": [
       "                             permalink                    name  \\\n",
       "0                  /organization/-fame                   #fame   \n",
       "1               /organization/-qounter                :Qounter   \n",
       "2                /organization/0-6-com                 0-6.com   \n",
       "3     /organization/01games-technology      01Games Technology   \n",
       "4  /organization/0ndine-biomedical-inc  Ondine Biomedical Inc.   \n",
       "\n",
       "                                       category_list     status country_code  \\\n",
       "0                                              Media  operating          IND   \n",
       "1  Application Platforms|Real Time|Social Network...  operating          USA   \n",
       "2                                        Curated Web  operating          CHN   \n",
       "3                                              Games  operating          HKG   \n",
       "4                                      Biotechnology  operating          CAN   \n",
       "\n",
       "                           funding_round_permalink funding_round_type  \\\n",
       "0  /funding-round/9a01d05418af9f794eebff7ace91f638            venture   \n",
       "1  /funding-round/b44fbb94153f6cdef13083530bb48030               seed   \n",
       "2  /funding-round/5727accaeaa57461bd22a9bdd945382d            venture   \n",
       "3  /funding-round/7d53696f2b4f607a2f2a8cbb83d01839        undisclosed   \n",
       "4  /funding-round/2b9d3ac293d5cdccbecff5c8cb0f327d               seed   \n",
       "\n",
       "    funded_at  raised_amount_usd  \n",
       "0  05-01-2015         10000000.0  \n",
       "1  01-03-2014           700000.0  \n",
       "2  19-03-2008          2000000.0  \n",
       "3  01-07-2014            41250.0  \n",
       "4  11-09-2009            43360.0  "
      ]
     },
     "execution_count": 6,
     "metadata": {},
     "output_type": "execute_result"
    }
   ],
   "source": [
    "df.head()"
   ]
  },
  {
   "cell_type": "markdown",
   "id": "2620df53",
   "metadata": {},
   "source": [
    "---------------------------------------------------------------------------------------------------------------------------"
   ]
  },
  {
   "cell_type": "code",
   "execution_count": 10,
   "id": "7d37bbf5",
   "metadata": {},
   "outputs": [],
   "source": [
    "df = df[(df[\"funding_round_type\"] == \"venture\") \n",
    "        | (df[\"funding_round_type\"] == \"angel\")\n",
    "        | (df[\"funding_round_type\"] == \"seed\")\n",
    "        | (df[\"funding_round_type\"] == \"private_equity\")\n",
    "       ]"
   ]
  },
  {
   "cell_type": "code",
   "execution_count": 13,
   "id": "02f277cd",
   "metadata": {},
   "outputs": [
    {
     "data": {
      "image/png": "[encoded data removed]",
      "text/plain": [
       "<Figure size 640x480 with 1 Axes>"
      ]
     },
     "metadata": {},
     "output_type": "display_data"
    }
   ],
   "source": [
    "sns.boxplot( y = df[\"raised_amount_usd\"] )\n",
    "plt.yscale(\"log\")\n",
    "plt.show()"
   ]
  },
  {
   "cell_type": "code",
   "execution_count": 15,
   "id": "54e817c9",
   "metadata": {},
   "outputs": [
    {
     "data": {
      "text/plain": [
       "count    7.512400e+04\n",
       "mean     9.519475e+06\n",
       "std      7.792778e+07\n",
       "min      0.000000e+00\n",
       "25%      4.705852e+05\n",
       "50%      2.000000e+06\n",
       "75%      8.000000e+06\n",
       "max      1.760000e+10\n",
       "Name: raised_amount_usd, dtype: float64"
      ]
     },
     "execution_count": 15,
     "metadata": {},
     "output_type": "execute_result"
    }
   ],
   "source": [
    "df[\"raised_amount_usd\"].describe()"
   ]
  },
  {
   "cell_type": "code",
   "execution_count": 18,
   "id": "04ebc7f5",
   "metadata": {},
   "outputs": [
    {
     "data": {
      "image/png": "[encoded data removed]",
      "text/plain": [
       "<Figure size 640x480 with 1 Axes>"
      ]
     },
     "metadata": {},
     "output_type": "display_data"
    }
   ],
   "source": [
    "sns.boxplot( x = \"funding_round_type\", y = \"raised_amount_usd\", data = df)\n",
    "plt.yscale(\"log\")\n",
    "plt.show()"
   ]
  },
  {
   "cell_type": "code",
   "execution_count": 19,
   "id": "665ced37",
   "metadata": {},
   "outputs": [
    {
     "data": {
      "text/html": [
       "<div>\n",
       "<style scoped>\n",
       "    .dataframe tbody tr th:only-of-type {\n",
       "        vertical-align: middle;\n",
       "    }\n",
       "\n",
       "    .dataframe tbody tr th {\n",
       "        vertical-align: top;\n",
       "    }\n",
       "\n",
       "    .dataframe thead tr th {\n",
       "        text-align: left;\n",
       "    }\n",
       "</style>\n",
       "<table border=\"1\" class=\"dataframe\">\n",
       "  <thead>\n",
       "    <tr>\n",
       "      <th></th>\n",
       "      <th colspan=\"4\" halign=\"left\">median</th>\n",
       "      <th colspan=\"4\" halign=\"left\">mean</th>\n",
       "    </tr>\n",
       "    <tr>\n",
       "      <th>funding_round_type</th>\n",
       "      <th>angel</th>\n",
       "      <th>private_equity</th>\n",
       "      <th>seed</th>\n",
       "      <th>venture</th>\n",
       "      <th>angel</th>\n",
       "      <th>private_equity</th>\n",
       "      <th>seed</th>\n",
       "      <th>venture</th>\n",
       "    </tr>\n",
       "  </thead>\n",
       "  <tbody>\n",
       "    <tr>\n",
       "      <th>raised_amount_usd</th>\n",
       "      <td>414906.0</td>\n",
       "      <td>20000000.0</td>\n",
       "      <td>300000.0</td>\n",
       "      <td>5000000.0</td>\n",
       "      <td>971573.891136</td>\n",
       "      <td>7.393849e+07</td>\n",
       "      <td>747793.682484</td>\n",
       "      <td>1.172422e+07</td>\n",
       "    </tr>\n",
       "  </tbody>\n",
       "</table>\n",
       "</div>"
      ],
      "text/plain": [
       "                      median                                      \\\n",
       "funding_round_type     angel private_equity      seed    venture   \n",
       "raised_amount_usd   414906.0     20000000.0  300000.0  5000000.0   \n",
       "\n",
       "                             mean                                              \n",
       "funding_round_type          angel private_equity           seed       venture  \n",
       "raised_amount_usd   971573.891136   7.393849e+07  747793.682484  1.172422e+07  "
      ]
     },
     "execution_count": 19,
     "metadata": {},
     "output_type": "execute_result"
    }
   ],
   "source": [
    "# compare mean & median\n",
    "df.pivot_table(values = \"raised_amount_usd\", columns = \"funding_round_type\", aggfunc = [np.median, np.mean])"
   ]
  },
  {
   "cell_type": "code",
   "execution_count": 23,
   "id": "3bea19d3",
   "metadata": {},
   "outputs": [
    {
     "data": {
      "text/plain": [
       "funding_round_type\n",
       "private_equity    20000000.0\n",
       "venture            5000000.0\n",
       "angel               414906.0\n",
       "seed                300000.0\n",
       "Name: raised_amount_usd, dtype: float64"
      ]
     },
     "execution_count": 23,
     "metadata": {},
     "output_type": "execute_result"
    }
   ],
   "source": [
    "# compare median of all investments -\n",
    "df.groupby(\"funding_round_type\")[\"raised_amount_usd\"].median().sort_values(ascending = False)"
   ]
  },
  {
   "cell_type": "markdown",
   "id": "84705d50",
   "metadata": {},
   "source": [
    "    Funding Analysis - Venture is the most suitable"
   ]
  },
  {
   "cell_type": "markdown",
   "id": "a8ceb59a",
   "metadata": {},
   "source": [
    "---------------------------------------------------------------------------------------------------------------------------"
   ]
  },
  {
   "cell_type": "markdown",
   "id": "4e46ce32",
   "metadata": {},
   "source": [
    "    **Country Analysis -"
   ]
  },
  {
   "cell_type": "code",
   "execution_count": 40,
   "id": "81be3f4f",
   "metadata": {},
   "outputs": [],
   "source": [
    "import numpy as np\n",
    "import pandas as pd\n",
    "import matplotlib.pyplot as plt\n",
    "import seaborn as sns"
   ]
  },
  {
   "cell_type": "code",
   "execution_count": 27,
   "id": "d1b4adcb",
   "metadata": {},
   "outputs": [],
   "source": [
    "df = pd.read_csv(\"master_df.csv\", sep = \",\", encoding = \"ISO- 8859-1\")\n",
    "df = df[df[\"funding_round_type\"] == \"venture\"]"
   ]
  },
  {
   "cell_type": "code",
   "execution_count": 29,
   "id": "c64681ff",
   "metadata": {},
   "outputs": [
    {
     "data": {
      "text/plain": [
       "country_code\n",
       "USA    4.200680e+11\n",
       "CHN    3.933892e+10\n",
       "GBR    2.007281e+10\n",
       "IND    1.426151e+10\n",
       "CAN    9.482218e+09\n",
       "           ...     \n",
       "MCO    6.570000e+05\n",
       "SAU    5.000000e+05\n",
       "CMR    3.595610e+05\n",
       "GTM    3.000000e+05\n",
       "MMR    2.000000e+05\n",
       "Name: raised_amount_usd, Length: 97, dtype: float64"
      ]
     },
     "execution_count": 29,
     "metadata": {},
     "output_type": "execute_result"
    }
   ],
   "source": [
    "# coutry wise -\n",
    "country_wise_total = df.groupby(\"country_code\")[\"raised_amount_usd\"].sum().sort_values(ascending = False)\n",
    "country_wise_total"
   ]
  },
  {
   "cell_type": "code",
   "execution_count": 33,
   "id": "bbf5f19c",
   "metadata": {},
   "outputs": [
    {
     "data": {
      "text/plain": [
       "country_code\n",
       "USA    4.200680e+11\n",
       "CHN    3.933892e+10\n",
       "GBR    2.007281e+10\n",
       "IND    1.426151e+10\n",
       "CAN    9.482218e+09\n",
       "FRA    7.226851e+09\n",
       "ISR    6.854350e+09\n",
       "DEU    6.306922e+09\n",
       "JPN    3.167647e+09\n",
       "Name: raised_amount_usd, dtype: float64"
      ]
     },
     "execution_count": 33,
     "metadata": {},
     "output_type": "execute_result"
    }
   ],
   "source": [
    "# Top 9 contries -\n",
    "top_9_countries = country_wise_total[:9]\n",
    "top_9_countries"
   ]
  },
  {
   "cell_type": "code",
   "execution_count": 35,
   "id": "bb06373f",
   "metadata": {},
   "outputs": [
    {
     "data": {
      "text/html": [
       "<div>\n",
       "<style scoped>\n",
       "    .dataframe tbody tr th:only-of-type {\n",
       "        vertical-align: middle;\n",
       "    }\n",
       "\n",
       "    .dataframe tbody tr th {\n",
       "        vertical-align: top;\n",
       "    }\n",
       "\n",
       "    .dataframe thead th {\n",
       "        text-align: right;\n",
       "    }\n",
       "</style>\n",
       "<table border=\"1\" class=\"dataframe\">\n",
       "  <thead>\n",
       "    <tr style=\"text-align: right;\">\n",
       "      <th></th>\n",
       "      <th>permalink</th>\n",
       "      <th>name</th>\n",
       "      <th>category_list</th>\n",
       "      <th>status</th>\n",
       "      <th>country_code</th>\n",
       "      <th>funding_round_permalink</th>\n",
       "      <th>funding_round_type</th>\n",
       "      <th>funded_at</th>\n",
       "      <th>raised_amount_usd</th>\n",
       "    </tr>\n",
       "  </thead>\n",
       "  <tbody>\n",
       "    <tr>\n",
       "      <th>0</th>\n",
       "      <td>/organization/-fame</td>\n",
       "      <td>#fame</td>\n",
       "      <td>Media</td>\n",
       "      <td>operating</td>\n",
       "      <td>IND</td>\n",
       "      <td>/funding-round/9a01d05418af9f794eebff7ace91f638</td>\n",
       "      <td>venture</td>\n",
       "      <td>05-01-2015</td>\n",
       "      <td>10000000.0</td>\n",
       "    </tr>\n",
       "    <tr>\n",
       "      <th>7</th>\n",
       "      <td>/organization/0xdata</td>\n",
       "      <td>H2O.ai</td>\n",
       "      <td>Analytics</td>\n",
       "      <td>operating</td>\n",
       "      <td>USA</td>\n",
       "      <td>/funding-round/3bb2ee4a2d89251a10aaa735b1180e44</td>\n",
       "      <td>venture</td>\n",
       "      <td>09-11-2015</td>\n",
       "      <td>20000000.0</td>\n",
       "    </tr>\n",
       "    <tr>\n",
       "      <th>8</th>\n",
       "      <td>/organization/0xdata</td>\n",
       "      <td>H2O.ai</td>\n",
       "      <td>Analytics</td>\n",
       "      <td>operating</td>\n",
       "      <td>USA</td>\n",
       "      <td>/funding-round/ae2a174c06517c2394aed45006322a7e</td>\n",
       "      <td>venture</td>\n",
       "      <td>03-01-2013</td>\n",
       "      <td>1700000.0</td>\n",
       "    </tr>\n",
       "    <tr>\n",
       "      <th>9</th>\n",
       "      <td>/organization/0xdata</td>\n",
       "      <td>H2O.ai</td>\n",
       "      <td>Analytics</td>\n",
       "      <td>operating</td>\n",
       "      <td>USA</td>\n",
       "      <td>/funding-round/e1cfcbe1bdf4c70277c5f29a3482f24e</td>\n",
       "      <td>venture</td>\n",
       "      <td>19-07-2014</td>\n",
       "      <td>8900000.0</td>\n",
       "    </tr>\n",
       "    <tr>\n",
       "      <th>15</th>\n",
       "      <td>/organization/1-mainstream</td>\n",
       "      <td>1 Mainstream</td>\n",
       "      <td>Apps|Cable|Distribution|Software</td>\n",
       "      <td>acquired</td>\n",
       "      <td>USA</td>\n",
       "      <td>/funding-round/b952cbaf401f310927430c97b68162ea</td>\n",
       "      <td>venture</td>\n",
       "      <td>17-03-2015</td>\n",
       "      <td>5000000.0</td>\n",
       "    </tr>\n",
       "  </tbody>\n",
       "</table>\n",
       "</div>"
      ],
      "text/plain": [
       "                     permalink          name  \\\n",
       "0          /organization/-fame         #fame   \n",
       "7         /organization/0xdata        H2O.ai   \n",
       "8         /organization/0xdata        H2O.ai   \n",
       "9         /organization/0xdata        H2O.ai   \n",
       "15  /organization/1-mainstream  1 Mainstream   \n",
       "\n",
       "                       category_list     status country_code  \\\n",
       "0                              Media  operating          IND   \n",
       "7                          Analytics  operating          USA   \n",
       "8                          Analytics  operating          USA   \n",
       "9                          Analytics  operating          USA   \n",
       "15  Apps|Cable|Distribution|Software   acquired          USA   \n",
       "\n",
       "                            funding_round_permalink funding_round_type  \\\n",
       "0   /funding-round/9a01d05418af9f794eebff7ace91f638            venture   \n",
       "7   /funding-round/3bb2ee4a2d89251a10aaa735b1180e44            venture   \n",
       "8   /funding-round/ae2a174c06517c2394aed45006322a7e            venture   \n",
       "9   /funding-round/e1cfcbe1bdf4c70277c5f29a3482f24e            venture   \n",
       "15  /funding-round/b952cbaf401f310927430c97b68162ea            venture   \n",
       "\n",
       "     funded_at  raised_amount_usd  \n",
       "0   05-01-2015         10000000.0  \n",
       "7   09-11-2015         20000000.0  \n",
       "8   03-01-2013          1700000.0  \n",
       "9   19-07-2014          8900000.0  \n",
       "15  17-03-2015          5000000.0  "
      ]
     },
     "execution_count": 35,
     "metadata": {},
     "output_type": "execute_result"
    }
   ],
   "source": [
    "# Filtering the top 3 conutires only -\n",
    "df = df[(df[\"country_code\"] == \"USA\") | (df[\"country_code\"] == \"GBR\") | (df[\"country_code\"] == \"IND\")]\n",
    "df.head()"
   ]
  },
  {
   "cell_type": "code",
   "execution_count": 36,
   "id": "eeacb344",
   "metadata": {},
   "outputs": [
    {
     "name": "stdout",
     "output_type": "stream",
     "text": [
      "<class 'pandas.core.frame.DataFrame'>\n",
      "Int64Index: 38803 entries, 0 to 88518\n",
      "Data columns (total 9 columns):\n",
      " #   Column                   Non-Null Count  Dtype  \n",
      "---  ------                   --------------  -----  \n",
      " 0   permalink                38803 non-null  object \n",
      " 1   name                     38803 non-null  object \n",
      " 2   category_list            38803 non-null  object \n",
      " 3   status                   38803 non-null  object \n",
      " 4   country_code             38803 non-null  object \n",
      " 5   funding_round_permalink  38803 non-null  object \n",
      " 6   funding_round_type       38803 non-null  object \n",
      " 7   funded_at                38803 non-null  object \n",
      " 8   raised_amount_usd        38803 non-null  float64\n",
      "dtypes: float64(1), object(8)\n",
      "memory usage: 3.0+ MB\n"
     ]
    }
   ],
   "source": [
    "df.info()"
   ]
  },
  {
   "cell_type": "code",
   "execution_count": 39,
   "id": "808ade3f",
   "metadata": {},
   "outputs": [
    {
     "data": {
      "image/png": "[encoded data removed]",
      "text/plain": [
       "<Figure size 640x480 with 1 Axes>"
      ]
     },
     "metadata": {},
     "output_type": "display_data"
    }
   ],
   "source": [
    "# Boxplot -\n",
    "sns.boxplot(x = \"country_code\", y = \"raised_amount_usd\", data = df)\n",
    "plt.yscale(\"log\")\n",
    "plt.show()"
   ]
  },
  {
   "cell_type": "markdown",
   "id": "074aac7f",
   "metadata": {},
   "source": [
    "---------------------------------------------------------------------------------------------------------------------------"
   ]
  },
  {
   "cell_type": "markdown",
   "id": "f55ef84b",
   "metadata": {},
   "source": [
    "    **Sector Analysis -"
   ]
  },
  {
   "cell_type": "code",
   "execution_count": 41,
   "id": "6e442fbe",
   "metadata": {},
   "outputs": [],
   "source": [
    "import numpy as np\n",
    "import pandas as pd\n",
    "import matplotlib.pyplot as plt\n",
    "import seaborn as sns"
   ]
  },
  {
   "cell_type": "code",
   "execution_count": 42,
   "id": "cb18cae9",
   "metadata": {},
   "outputs": [
    {
     "data": {
      "text/html": [
       "<div>\n",
       "<style scoped>\n",
       "    .dataframe tbody tr th:only-of-type {\n",
       "        vertical-align: middle;\n",
       "    }\n",
       "\n",
       "    .dataframe tbody tr th {\n",
       "        vertical-align: top;\n",
       "    }\n",
       "\n",
       "    .dataframe thead th {\n",
       "        text-align: right;\n",
       "    }\n",
       "</style>\n",
       "<table border=\"1\" class=\"dataframe\">\n",
       "  <thead>\n",
       "    <tr style=\"text-align: right;\">\n",
       "      <th></th>\n",
       "      <th>permalink</th>\n",
       "      <th>name</th>\n",
       "      <th>category_list</th>\n",
       "      <th>status</th>\n",
       "      <th>country_code</th>\n",
       "      <th>funding_round_permalink</th>\n",
       "      <th>funding_round_type</th>\n",
       "      <th>funded_at</th>\n",
       "      <th>raised_amount_usd</th>\n",
       "      <th>main_category</th>\n",
       "    </tr>\n",
       "  </thead>\n",
       "  <tbody>\n",
       "    <tr>\n",
       "      <th>0</th>\n",
       "      <td>/organization/-fame</td>\n",
       "      <td>#fame</td>\n",
       "      <td>Media</td>\n",
       "      <td>operating</td>\n",
       "      <td>IND</td>\n",
       "      <td>/funding-round/9a01d05418af9f794eebff7ace91f638</td>\n",
       "      <td>venture</td>\n",
       "      <td>05-01-2015</td>\n",
       "      <td>10000000.0</td>\n",
       "      <td>Media</td>\n",
       "    </tr>\n",
       "    <tr>\n",
       "      <th>7</th>\n",
       "      <td>/organization/0xdata</td>\n",
       "      <td>H2O.ai</td>\n",
       "      <td>Analytics</td>\n",
       "      <td>operating</td>\n",
       "      <td>USA</td>\n",
       "      <td>/funding-round/3bb2ee4a2d89251a10aaa735b1180e44</td>\n",
       "      <td>venture</td>\n",
       "      <td>09-11-2015</td>\n",
       "      <td>20000000.0</td>\n",
       "      <td>Analytics</td>\n",
       "    </tr>\n",
       "    <tr>\n",
       "      <th>8</th>\n",
       "      <td>/organization/0xdata</td>\n",
       "      <td>H2O.ai</td>\n",
       "      <td>Analytics</td>\n",
       "      <td>operating</td>\n",
       "      <td>USA</td>\n",
       "      <td>/funding-round/ae2a174c06517c2394aed45006322a7e</td>\n",
       "      <td>venture</td>\n",
       "      <td>03-01-2013</td>\n",
       "      <td>1700000.0</td>\n",
       "      <td>Analytics</td>\n",
       "    </tr>\n",
       "    <tr>\n",
       "      <th>9</th>\n",
       "      <td>/organization/0xdata</td>\n",
       "      <td>H2O.ai</td>\n",
       "      <td>Analytics</td>\n",
       "      <td>operating</td>\n",
       "      <td>USA</td>\n",
       "      <td>/funding-round/e1cfcbe1bdf4c70277c5f29a3482f24e</td>\n",
       "      <td>venture</td>\n",
       "      <td>19-07-2014</td>\n",
       "      <td>8900000.0</td>\n",
       "      <td>Analytics</td>\n",
       "    </tr>\n",
       "    <tr>\n",
       "      <th>15</th>\n",
       "      <td>/organization/1-mainstream</td>\n",
       "      <td>1 Mainstream</td>\n",
       "      <td>Apps|Cable|Distribution|Software</td>\n",
       "      <td>acquired</td>\n",
       "      <td>USA</td>\n",
       "      <td>/funding-round/b952cbaf401f310927430c97b68162ea</td>\n",
       "      <td>venture</td>\n",
       "      <td>17-03-2015</td>\n",
       "      <td>5000000.0</td>\n",
       "      <td>Apps</td>\n",
       "    </tr>\n",
       "  </tbody>\n",
       "</table>\n",
       "</div>"
      ],
      "text/plain": [
       "                     permalink          name  \\\n",
       "0          /organization/-fame         #fame   \n",
       "7         /organization/0xdata        H2O.ai   \n",
       "8         /organization/0xdata        H2O.ai   \n",
       "9         /organization/0xdata        H2O.ai   \n",
       "15  /organization/1-mainstream  1 Mainstream   \n",
       "\n",
       "                       category_list     status country_code  \\\n",
       "0                              Media  operating          IND   \n",
       "7                          Analytics  operating          USA   \n",
       "8                          Analytics  operating          USA   \n",
       "9                          Analytics  operating          USA   \n",
       "15  Apps|Cable|Distribution|Software   acquired          USA   \n",
       "\n",
       "                            funding_round_permalink funding_round_type  \\\n",
       "0   /funding-round/9a01d05418af9f794eebff7ace91f638            venture   \n",
       "7   /funding-round/3bb2ee4a2d89251a10aaa735b1180e44            venture   \n",
       "8   /funding-round/ae2a174c06517c2394aed45006322a7e            venture   \n",
       "9   /funding-round/e1cfcbe1bdf4c70277c5f29a3482f24e            venture   \n",
       "15  /funding-round/b952cbaf401f310927430c97b68162ea            venture   \n",
       "\n",
       "     funded_at  raised_amount_usd main_category  \n",
       "0   05-01-2015         10000000.0         Media  \n",
       "7   09-11-2015         20000000.0     Analytics  \n",
       "8   03-01-2013          1700000.0     Analytics  \n",
       "9   19-07-2014          8900000.0     Analytics  \n",
       "15  17-03-2015          5000000.0          Apps  "
      ]
     },
     "execution_count": 42,
     "metadata": {},
     "output_type": "execute_result"
    }
   ],
   "source": [
    "# extract first part from category_list -\n",
    "df.loc[:, \"main_category\"] = df[\"category_list\"].apply(lambda x : x.split(\"|\")[0])\n",
    "df.head()"
   ]
  },
  {
   "cell_type": "code",
   "execution_count": 43,
   "id": "0aba7f3d",
   "metadata": {},
   "outputs": [
    {
     "data": {
      "text/html": [
       "<div>\n",
       "<style scoped>\n",
       "    .dataframe tbody tr th:only-of-type {\n",
       "        vertical-align: middle;\n",
       "    }\n",
       "\n",
       "    .dataframe tbody tr th {\n",
       "        vertical-align: top;\n",
       "    }\n",
       "\n",
       "    .dataframe thead th {\n",
       "        text-align: right;\n",
       "    }\n",
       "</style>\n",
       "<table border=\"1\" class=\"dataframe\">\n",
       "  <thead>\n",
       "    <tr style=\"text-align: right;\">\n",
       "      <th></th>\n",
       "      <th>permalink</th>\n",
       "      <th>name</th>\n",
       "      <th>status</th>\n",
       "      <th>country_code</th>\n",
       "      <th>funding_round_permalink</th>\n",
       "      <th>funding_round_type</th>\n",
       "      <th>funded_at</th>\n",
       "      <th>raised_amount_usd</th>\n",
       "      <th>main_category</th>\n",
       "    </tr>\n",
       "  </thead>\n",
       "  <tbody>\n",
       "    <tr>\n",
       "      <th>0</th>\n",
       "      <td>/organization/-fame</td>\n",
       "      <td>#fame</td>\n",
       "      <td>operating</td>\n",
       "      <td>IND</td>\n",
       "      <td>/funding-round/9a01d05418af9f794eebff7ace91f638</td>\n",
       "      <td>venture</td>\n",
       "      <td>05-01-2015</td>\n",
       "      <td>10000000.0</td>\n",
       "      <td>Media</td>\n",
       "    </tr>\n",
       "    <tr>\n",
       "      <th>7</th>\n",
       "      <td>/organization/0xdata</td>\n",
       "      <td>H2O.ai</td>\n",
       "      <td>operating</td>\n",
       "      <td>USA</td>\n",
       "      <td>/funding-round/3bb2ee4a2d89251a10aaa735b1180e44</td>\n",
       "      <td>venture</td>\n",
       "      <td>09-11-2015</td>\n",
       "      <td>20000000.0</td>\n",
       "      <td>Analytics</td>\n",
       "    </tr>\n",
       "    <tr>\n",
       "      <th>8</th>\n",
       "      <td>/organization/0xdata</td>\n",
       "      <td>H2O.ai</td>\n",
       "      <td>operating</td>\n",
       "      <td>USA</td>\n",
       "      <td>/funding-round/ae2a174c06517c2394aed45006322a7e</td>\n",
       "      <td>venture</td>\n",
       "      <td>03-01-2013</td>\n",
       "      <td>1700000.0</td>\n",
       "      <td>Analytics</td>\n",
       "    </tr>\n",
       "    <tr>\n",
       "      <th>9</th>\n",
       "      <td>/organization/0xdata</td>\n",
       "      <td>H2O.ai</td>\n",
       "      <td>operating</td>\n",
       "      <td>USA</td>\n",
       "      <td>/funding-round/e1cfcbe1bdf4c70277c5f29a3482f24e</td>\n",
       "      <td>venture</td>\n",
       "      <td>19-07-2014</td>\n",
       "      <td>8900000.0</td>\n",
       "      <td>Analytics</td>\n",
       "    </tr>\n",
       "    <tr>\n",
       "      <th>15</th>\n",
       "      <td>/organization/1-mainstream</td>\n",
       "      <td>1 Mainstream</td>\n",
       "      <td>acquired</td>\n",
       "      <td>USA</td>\n",
       "      <td>/funding-round/b952cbaf401f310927430c97b68162ea</td>\n",
       "      <td>venture</td>\n",
       "      <td>17-03-2015</td>\n",
       "      <td>5000000.0</td>\n",
       "      <td>Apps</td>\n",
       "    </tr>\n",
       "  </tbody>\n",
       "</table>\n",
       "</div>"
      ],
      "text/plain": [
       "                     permalink          name     status country_code  \\\n",
       "0          /organization/-fame         #fame  operating          IND   \n",
       "7         /organization/0xdata        H2O.ai  operating          USA   \n",
       "8         /organization/0xdata        H2O.ai  operating          USA   \n",
       "9         /organization/0xdata        H2O.ai  operating          USA   \n",
       "15  /organization/1-mainstream  1 Mainstream   acquired          USA   \n",
       "\n",
       "                            funding_round_permalink funding_round_type  \\\n",
       "0   /funding-round/9a01d05418af9f794eebff7ace91f638            venture   \n",
       "7   /funding-round/3bb2ee4a2d89251a10aaa735b1180e44            venture   \n",
       "8   /funding-round/ae2a174c06517c2394aed45006322a7e            venture   \n",
       "9   /funding-round/e1cfcbe1bdf4c70277c5f29a3482f24e            venture   \n",
       "15  /funding-round/b952cbaf401f310927430c97b68162ea            venture   \n",
       "\n",
       "     funded_at  raised_amount_usd main_category  \n",
       "0   05-01-2015         10000000.0         Media  \n",
       "7   09-11-2015         20000000.0     Analytics  \n",
       "8   03-01-2013          1700000.0     Analytics  \n",
       "9   19-07-2014          8900000.0     Analytics  \n",
       "15  17-03-2015          5000000.0          Apps  "
      ]
     },
     "execution_count": 43,
     "metadata": {},
     "output_type": "execute_result"
    }
   ],
   "source": [
    "# drop the original category_list column -\n",
    "df = df.drop(\"category_list\", axis = 1)\n",
    "df.head()"
   ]
  },
  {
   "cell_type": "code",
   "execution_count": 44,
   "id": "0e097a05",
   "metadata": {},
   "outputs": [
    {
     "data": {
      "text/html": [
       "<div>\n",
       "<style scoped>\n",
       "    .dataframe tbody tr th:only-of-type {\n",
       "        vertical-align: middle;\n",
       "    }\n",
       "\n",
       "    .dataframe tbody tr th {\n",
       "        vertical-align: top;\n",
       "    }\n",
       "\n",
       "    .dataframe thead th {\n",
       "        text-align: right;\n",
       "    }\n",
       "</style>\n",
       "<table border=\"1\" class=\"dataframe\">\n",
       "  <thead>\n",
       "    <tr style=\"text-align: right;\">\n",
       "      <th></th>\n",
       "      <th>category_list</th>\n",
       "      <th>Automotive &amp; Sports</th>\n",
       "      <th>Blanks</th>\n",
       "      <th>Cleantech / Semiconductors</th>\n",
       "      <th>Entertainment</th>\n",
       "      <th>Health</th>\n",
       "      <th>Manufacturing</th>\n",
       "      <th>News, Search and Messaging</th>\n",
       "      <th>Others</th>\n",
       "      <th>Social, Finance, Analytics, Advertising</th>\n",
       "    </tr>\n",
       "  </thead>\n",
       "  <tbody>\n",
       "    <tr>\n",
       "      <th>0</th>\n",
       "      <td>NaN</td>\n",
       "      <td>0</td>\n",
       "      <td>1</td>\n",
       "      <td>0</td>\n",
       "      <td>0</td>\n",
       "      <td>0</td>\n",
       "      <td>0</td>\n",
       "      <td>0</td>\n",
       "      <td>0</td>\n",
       "      <td>0</td>\n",
       "    </tr>\n",
       "    <tr>\n",
       "      <th>1</th>\n",
       "      <td>3D</td>\n",
       "      <td>0</td>\n",
       "      <td>0</td>\n",
       "      <td>0</td>\n",
       "      <td>0</td>\n",
       "      <td>0</td>\n",
       "      <td>1</td>\n",
       "      <td>0</td>\n",
       "      <td>0</td>\n",
       "      <td>0</td>\n",
       "    </tr>\n",
       "    <tr>\n",
       "      <th>2</th>\n",
       "      <td>3D Printing</td>\n",
       "      <td>0</td>\n",
       "      <td>0</td>\n",
       "      <td>0</td>\n",
       "      <td>0</td>\n",
       "      <td>0</td>\n",
       "      <td>1</td>\n",
       "      <td>0</td>\n",
       "      <td>0</td>\n",
       "      <td>0</td>\n",
       "    </tr>\n",
       "    <tr>\n",
       "      <th>3</th>\n",
       "      <td>3D Technology</td>\n",
       "      <td>0</td>\n",
       "      <td>0</td>\n",
       "      <td>0</td>\n",
       "      <td>0</td>\n",
       "      <td>0</td>\n",
       "      <td>1</td>\n",
       "      <td>0</td>\n",
       "      <td>0</td>\n",
       "      <td>0</td>\n",
       "    </tr>\n",
       "    <tr>\n",
       "      <th>4</th>\n",
       "      <td>Accounting</td>\n",
       "      <td>0</td>\n",
       "      <td>0</td>\n",
       "      <td>0</td>\n",
       "      <td>0</td>\n",
       "      <td>0</td>\n",
       "      <td>0</td>\n",
       "      <td>0</td>\n",
       "      <td>0</td>\n",
       "      <td>1</td>\n",
       "    </tr>\n",
       "  </tbody>\n",
       "</table>\n",
       "</div>"
      ],
      "text/plain": [
       "   category_list  Automotive & Sports  Blanks  Cleantech / Semiconductors  \\\n",
       "0            NaN                    0       1                           0   \n",
       "1             3D                    0       0                           0   \n",
       "2    3D Printing                    0       0                           0   \n",
       "3  3D Technology                    0       0                           0   \n",
       "4     Accounting                    0       0                           0   \n",
       "\n",
       "   Entertainment  Health  Manufacturing  News, Search and Messaging  Others  \\\n",
       "0              0       0              0                           0       0   \n",
       "1              0       0              1                           0       0   \n",
       "2              0       0              1                           0       0   \n",
       "3              0       0              1                           0       0   \n",
       "4              0       0              0                           0       0   \n",
       "\n",
       "   Social, Finance, Analytics, Advertising  \n",
       "0                                        0  \n",
       "1                                        0  \n",
       "2                                        0  \n",
       "3                                        0  \n",
       "4                                        1  "
      ]
     },
     "execution_count": 44,
     "metadata": {},
     "output_type": "execute_result"
    }
   ],
   "source": [
    "# read mapping.csv file =\n",
    "mapping = pd.read_csv(\"mapping.csv\", sep = \",\")\n",
    "mapping.head()"
   ]
  },
  {
   "cell_type": "code",
   "execution_count": 45,
   "id": "cc2cc478",
   "metadata": {},
   "outputs": [
    {
     "data": {
      "text/plain": [
       "category_list                              1\n",
       "Automotive & Sports                        0\n",
       "Blanks                                     0\n",
       "Cleantech / Semiconductors                 0\n",
       "Entertainment                              0\n",
       "Health                                     0\n",
       "Manufacturing                              0\n",
       "News, Search and Messaging                 0\n",
       "Others                                     0\n",
       "Social, Finance, Analytics, Advertising    0\n",
       "dtype: int64"
      ]
     },
     "execution_count": 45,
     "metadata": {},
     "output_type": "execute_result"
    }
   ],
   "source": [
    "# Identify null values first -\n",
    "mapping.isnull().sum()"
   ]
  },
  {
   "cell_type": "code",
   "execution_count": 47,
   "id": "db419aee",
   "metadata": {},
   "outputs": [
    {
     "data": {
      "text/plain": [
       "category_list                              0\n",
       "Automotive & Sports                        0\n",
       "Blanks                                     0\n",
       "Cleantech / Semiconductors                 0\n",
       "Entertainment                              0\n",
       "Health                                     0\n",
       "Manufacturing                              0\n",
       "News, Search and Messaging                 0\n",
       "Others                                     0\n",
       "Social, Finance, Analytics, Advertising    0\n",
       "dtype: int64"
      ]
     },
     "execution_count": 47,
     "metadata": {},
     "output_type": "execute_result"
    }
   ],
   "source": [
    "# Remove the null values -\n",
    "mapping = mapping[~pd.isnull(mapping[\"category_list\"])]\n",
    "mapping.isnull().sum()"
   ]
  },
  {
   "cell_type": "code",
   "execution_count": 48,
   "id": "de48701d",
   "metadata": {},
   "outputs": [],
   "source": [
    "# converting common columns to lowercase -\n",
    "mapping[\"category_list\"] = mapping[\"category_list\"].str.lower()\n",
    "df[\"main_category\"] = df[\"main_category\"].str.lower()"
   ]
  },
  {
   "cell_type": "code",
   "execution_count": 51,
   "id": "ea910000",
   "metadata": {},
   "outputs": [
    {
     "data": {
      "text/html": [
       "<div>\n",
       "<style scoped>\n",
       "    .dataframe tbody tr th:only-of-type {\n",
       "        vertical-align: middle;\n",
       "    }\n",
       "\n",
       "    .dataframe tbody tr th {\n",
       "        vertical-align: top;\n",
       "    }\n",
       "\n",
       "    .dataframe thead th {\n",
       "        text-align: right;\n",
       "    }\n",
       "</style>\n",
       "<table border=\"1\" class=\"dataframe\">\n",
       "  <thead>\n",
       "    <tr style=\"text-align: right;\">\n",
       "      <th></th>\n",
       "      <th>category_list</th>\n",
       "      <th>Automotive &amp; Sports</th>\n",
       "      <th>Blanks</th>\n",
       "      <th>Cleantech / Semiconductors</th>\n",
       "      <th>Entertainment</th>\n",
       "      <th>Health</th>\n",
       "      <th>Manufacturing</th>\n",
       "      <th>News, Search and Messaging</th>\n",
       "      <th>Others</th>\n",
       "      <th>Social, Finance, Analytics, Advertising</th>\n",
       "    </tr>\n",
       "  </thead>\n",
       "  <tbody>\n",
       "    <tr>\n",
       "      <th>1</th>\n",
       "      <td>3d</td>\n",
       "      <td>0</td>\n",
       "      <td>0</td>\n",
       "      <td>0</td>\n",
       "      <td>0</td>\n",
       "      <td>0</td>\n",
       "      <td>1</td>\n",
       "      <td>0</td>\n",
       "      <td>0</td>\n",
       "      <td>0</td>\n",
       "    </tr>\n",
       "    <tr>\n",
       "      <th>2</th>\n",
       "      <td>3d printing</td>\n",
       "      <td>0</td>\n",
       "      <td>0</td>\n",
       "      <td>0</td>\n",
       "      <td>0</td>\n",
       "      <td>0</td>\n",
       "      <td>1</td>\n",
       "      <td>0</td>\n",
       "      <td>0</td>\n",
       "      <td>0</td>\n",
       "    </tr>\n",
       "    <tr>\n",
       "      <th>3</th>\n",
       "      <td>3d technology</td>\n",
       "      <td>0</td>\n",
       "      <td>0</td>\n",
       "      <td>0</td>\n",
       "      <td>0</td>\n",
       "      <td>0</td>\n",
       "      <td>1</td>\n",
       "      <td>0</td>\n",
       "      <td>0</td>\n",
       "      <td>0</td>\n",
       "    </tr>\n",
       "    <tr>\n",
       "      <th>4</th>\n",
       "      <td>accounting</td>\n",
       "      <td>0</td>\n",
       "      <td>0</td>\n",
       "      <td>0</td>\n",
       "      <td>0</td>\n",
       "      <td>0</td>\n",
       "      <td>0</td>\n",
       "      <td>0</td>\n",
       "      <td>0</td>\n",
       "      <td>1</td>\n",
       "    </tr>\n",
       "    <tr>\n",
       "      <th>5</th>\n",
       "      <td>active lifestyle</td>\n",
       "      <td>0</td>\n",
       "      <td>0</td>\n",
       "      <td>0</td>\n",
       "      <td>0</td>\n",
       "      <td>1</td>\n",
       "      <td>0</td>\n",
       "      <td>0</td>\n",
       "      <td>0</td>\n",
       "      <td>0</td>\n",
       "    </tr>\n",
       "  </tbody>\n",
       "</table>\n",
       "</div>"
      ],
      "text/plain": [
       "      category_list  Automotive & Sports  Blanks  Cleantech / Semiconductors  \\\n",
       "1                3d                    0       0                           0   \n",
       "2       3d printing                    0       0                           0   \n",
       "3     3d technology                    0       0                           0   \n",
       "4        accounting                    0       0                           0   \n",
       "5  active lifestyle                    0       0                           0   \n",
       "\n",
       "   Entertainment  Health  Manufacturing  News, Search and Messaging  Others  \\\n",
       "1              0       0              1                           0       0   \n",
       "2              0       0              1                           0       0   \n",
       "3              0       0              1                           0       0   \n",
       "4              0       0              0                           0       0   \n",
       "5              0       1              0                           0       0   \n",
       "\n",
       "   Social, Finance, Analytics, Advertising  \n",
       "1                                        0  \n",
       "2                                        0  \n",
       "3                                        0  \n",
       "4                                        1  \n",
       "5                                        0  "
      ]
     },
     "execution_count": 51,
     "metadata": {},
     "output_type": "execute_result"
    }
   ],
   "source": [
    "mapping.head()"
   ]
  },
  {
   "cell_type": "code",
   "execution_count": 52,
   "id": "4bec5001",
   "metadata": {},
   "outputs": [
    {
     "data": {
      "text/html": [
       "<div>\n",
       "<style scoped>\n",
       "    .dataframe tbody tr th:only-of-type {\n",
       "        vertical-align: middle;\n",
       "    }\n",
       "\n",
       "    .dataframe tbody tr th {\n",
       "        vertical-align: top;\n",
       "    }\n",
       "\n",
       "    .dataframe thead th {\n",
       "        text-align: right;\n",
       "    }\n",
       "</style>\n",
       "<table border=\"1\" class=\"dataframe\">\n",
       "  <thead>\n",
       "    <tr style=\"text-align: right;\">\n",
       "      <th></th>\n",
       "      <th>permalink</th>\n",
       "      <th>name</th>\n",
       "      <th>status</th>\n",
       "      <th>country_code</th>\n",
       "      <th>funding_round_permalink</th>\n",
       "      <th>funding_round_type</th>\n",
       "      <th>funded_at</th>\n",
       "      <th>raised_amount_usd</th>\n",
       "      <th>main_category</th>\n",
       "    </tr>\n",
       "  </thead>\n",
       "  <tbody>\n",
       "    <tr>\n",
       "      <th>0</th>\n",
       "      <td>/organization/-fame</td>\n",
       "      <td>#fame</td>\n",
       "      <td>operating</td>\n",
       "      <td>IND</td>\n",
       "      <td>/funding-round/9a01d05418af9f794eebff7ace91f638</td>\n",
       "      <td>venture</td>\n",
       "      <td>05-01-2015</td>\n",
       "      <td>10000000.0</td>\n",
       "      <td>media</td>\n",
       "    </tr>\n",
       "    <tr>\n",
       "      <th>7</th>\n",
       "      <td>/organization/0xdata</td>\n",
       "      <td>H2O.ai</td>\n",
       "      <td>operating</td>\n",
       "      <td>USA</td>\n",
       "      <td>/funding-round/3bb2ee4a2d89251a10aaa735b1180e44</td>\n",
       "      <td>venture</td>\n",
       "      <td>09-11-2015</td>\n",
       "      <td>20000000.0</td>\n",
       "      <td>analytics</td>\n",
       "    </tr>\n",
       "    <tr>\n",
       "      <th>8</th>\n",
       "      <td>/organization/0xdata</td>\n",
       "      <td>H2O.ai</td>\n",
       "      <td>operating</td>\n",
       "      <td>USA</td>\n",
       "      <td>/funding-round/ae2a174c06517c2394aed45006322a7e</td>\n",
       "      <td>venture</td>\n",
       "      <td>03-01-2013</td>\n",
       "      <td>1700000.0</td>\n",
       "      <td>analytics</td>\n",
       "    </tr>\n",
       "    <tr>\n",
       "      <th>9</th>\n",
       "      <td>/organization/0xdata</td>\n",
       "      <td>H2O.ai</td>\n",
       "      <td>operating</td>\n",
       "      <td>USA</td>\n",
       "      <td>/funding-round/e1cfcbe1bdf4c70277c5f29a3482f24e</td>\n",
       "      <td>venture</td>\n",
       "      <td>19-07-2014</td>\n",
       "      <td>8900000.0</td>\n",
       "      <td>analytics</td>\n",
       "    </tr>\n",
       "    <tr>\n",
       "      <th>15</th>\n",
       "      <td>/organization/1-mainstream</td>\n",
       "      <td>1 Mainstream</td>\n",
       "      <td>acquired</td>\n",
       "      <td>USA</td>\n",
       "      <td>/funding-round/b952cbaf401f310927430c97b68162ea</td>\n",
       "      <td>venture</td>\n",
       "      <td>17-03-2015</td>\n",
       "      <td>5000000.0</td>\n",
       "      <td>apps</td>\n",
       "    </tr>\n",
       "  </tbody>\n",
       "</table>\n",
       "</div>"
      ],
      "text/plain": [
       "                     permalink          name     status country_code  \\\n",
       "0          /organization/-fame         #fame  operating          IND   \n",
       "7         /organization/0xdata        H2O.ai  operating          USA   \n",
       "8         /organization/0xdata        H2O.ai  operating          USA   \n",
       "9         /organization/0xdata        H2O.ai  operating          USA   \n",
       "15  /organization/1-mainstream  1 Mainstream   acquired          USA   \n",
       "\n",
       "                            funding_round_permalink funding_round_type  \\\n",
       "0   /funding-round/9a01d05418af9f794eebff7ace91f638            venture   \n",
       "7   /funding-round/3bb2ee4a2d89251a10aaa735b1180e44            venture   \n",
       "8   /funding-round/ae2a174c06517c2394aed45006322a7e            venture   \n",
       "9   /funding-round/e1cfcbe1bdf4c70277c5f29a3482f24e            venture   \n",
       "15  /funding-round/b952cbaf401f310927430c97b68162ea            venture   \n",
       "\n",
       "     funded_at  raised_amount_usd main_category  \n",
       "0   05-01-2015         10000000.0         media  \n",
       "7   09-11-2015         20000000.0     analytics  \n",
       "8   03-01-2013          1700000.0     analytics  \n",
       "9   19-07-2014          8900000.0     analytics  \n",
       "15  17-03-2015          5000000.0          apps  "
      ]
     },
     "execution_count": 52,
     "metadata": {},
     "output_type": "execute_result"
    }
   ],
   "source": [
    "df.head()"
   ]
  },
  {
   "cell_type": "code",
   "execution_count": 53,
   "id": "9d55f8f4",
   "metadata": {},
   "outputs": [
    {
     "data": {
      "text/plain": [
       "1                    3d\n",
       "2           3d printing\n",
       "3         3d technology\n",
       "4            accounting\n",
       "5      active lifestyle\n",
       "             ...       \n",
       "683           wholesale\n",
       "684    wine and spirits\n",
       "685            wireless\n",
       "686               women\n",
       "687        young adults\n",
       "Name: category_list, Length: 687, dtype: object"
      ]
     },
     "execution_count": 53,
     "metadata": {},
     "output_type": "execute_result"
    }
   ],
   "source": [
    "mapping[\"category_list\"]"
   ]
  },
  {
   "cell_type": "code",
   "execution_count": 55,
   "id": "744b1135",
   "metadata": {},
   "outputs": [
    {
     "data": {
      "text/html": [
       "<div>\n",
       "<style scoped>\n",
       "    .dataframe tbody tr th:only-of-type {\n",
       "        vertical-align: middle;\n",
       "    }\n",
       "\n",
       "    .dataframe tbody tr th {\n",
       "        vertical-align: top;\n",
       "    }\n",
       "\n",
       "    .dataframe thead th {\n",
       "        text-align: right;\n",
       "    }\n",
       "</style>\n",
       "<table border=\"1\" class=\"dataframe\">\n",
       "  <thead>\n",
       "    <tr style=\"text-align: right;\">\n",
       "      <th></th>\n",
       "      <th>permalink</th>\n",
       "      <th>name</th>\n",
       "      <th>status</th>\n",
       "      <th>country_code</th>\n",
       "      <th>funding_round_permalink</th>\n",
       "      <th>funding_round_type</th>\n",
       "      <th>funded_at</th>\n",
       "      <th>raised_amount_usd</th>\n",
       "      <th>main_category</th>\n",
       "    </tr>\n",
       "  </thead>\n",
       "  <tbody>\n",
       "    <tr>\n",
       "      <th>7</th>\n",
       "      <td>/organization/0xdata</td>\n",
       "      <td>H2O.ai</td>\n",
       "      <td>operating</td>\n",
       "      <td>USA</td>\n",
       "      <td>/funding-round/3bb2ee4a2d89251a10aaa735b1180e44</td>\n",
       "      <td>venture</td>\n",
       "      <td>09-11-2015</td>\n",
       "      <td>20000000.0</td>\n",
       "      <td>analytics</td>\n",
       "    </tr>\n",
       "    <tr>\n",
       "      <th>8</th>\n",
       "      <td>/organization/0xdata</td>\n",
       "      <td>H2O.ai</td>\n",
       "      <td>operating</td>\n",
       "      <td>USA</td>\n",
       "      <td>/funding-round/ae2a174c06517c2394aed45006322a7e</td>\n",
       "      <td>venture</td>\n",
       "      <td>03-01-2013</td>\n",
       "      <td>1700000.0</td>\n",
       "      <td>analytics</td>\n",
       "    </tr>\n",
       "    <tr>\n",
       "      <th>9</th>\n",
       "      <td>/organization/0xdata</td>\n",
       "      <td>H2O.ai</td>\n",
       "      <td>operating</td>\n",
       "      <td>USA</td>\n",
       "      <td>/funding-round/e1cfcbe1bdf4c70277c5f29a3482f24e</td>\n",
       "      <td>venture</td>\n",
       "      <td>19-07-2014</td>\n",
       "      <td>8900000.0</td>\n",
       "      <td>analytics</td>\n",
       "    </tr>\n",
       "    <tr>\n",
       "      <th>47</th>\n",
       "      <td>/organization/100plus</td>\n",
       "      <td>100Plus</td>\n",
       "      <td>acquired</td>\n",
       "      <td>USA</td>\n",
       "      <td>/funding-round/b5facb0d9dea2f0352b5834892c88c53</td>\n",
       "      <td>venture</td>\n",
       "      <td>02-11-2011</td>\n",
       "      <td>500000.0</td>\n",
       "      <td>analytics</td>\n",
       "    </tr>\n",
       "    <tr>\n",
       "      <th>136</th>\n",
       "      <td>/organization/1world-online</td>\n",
       "      <td>1World Online</td>\n",
       "      <td>operating</td>\n",
       "      <td>USA</td>\n",
       "      <td>/funding-round/32936e588a134502712877150198a0b3</td>\n",
       "      <td>venture</td>\n",
       "      <td>13-08-2015</td>\n",
       "      <td>2500000.0</td>\n",
       "      <td>analytics</td>\n",
       "    </tr>\n",
       "  </tbody>\n",
       "</table>\n",
       "</div>"
      ],
      "text/plain": [
       "                       permalink           name     status country_code  \\\n",
       "7           /organization/0xdata         H2O.ai  operating          USA   \n",
       "8           /organization/0xdata         H2O.ai  operating          USA   \n",
       "9           /organization/0xdata         H2O.ai  operating          USA   \n",
       "47         /organization/100plus        100Plus   acquired          USA   \n",
       "136  /organization/1world-online  1World Online  operating          USA   \n",
       "\n",
       "                             funding_round_permalink funding_round_type  \\\n",
       "7    /funding-round/3bb2ee4a2d89251a10aaa735b1180e44            venture   \n",
       "8    /funding-round/ae2a174c06517c2394aed45006322a7e            venture   \n",
       "9    /funding-round/e1cfcbe1bdf4c70277c5f29a3482f24e            venture   \n",
       "47   /funding-round/b5facb0d9dea2f0352b5834892c88c53            venture   \n",
       "136  /funding-round/32936e588a134502712877150198a0b3            venture   \n",
       "\n",
       "      funded_at  raised_amount_usd main_category  \n",
       "7    09-11-2015         20000000.0     analytics  \n",
       "8    03-01-2013          1700000.0     analytics  \n",
       "9    19-07-2014          8900000.0     analytics  \n",
       "47   02-11-2011           500000.0     analytics  \n",
       "136  13-08-2015          2500000.0     analytics  "
      ]
     },
     "execution_count": 55,
     "metadata": {},
     "output_type": "execute_result"
    }
   ],
   "source": [
    "df[~df[\"main_category\"].isin(mapping[\"category_list\"])].head()"
   ]
  },
  {
   "cell_type": "code",
   "execution_count": 58,
   "id": "d9ad0ed8",
   "metadata": {},
   "outputs": [
    {
     "data": {
      "text/html": [
       "<div>\n",
       "<style scoped>\n",
       "    .dataframe tbody tr th:only-of-type {\n",
       "        vertical-align: middle;\n",
       "    }\n",
       "\n",
       "    .dataframe tbody tr th {\n",
       "        vertical-align: top;\n",
       "    }\n",
       "\n",
       "    .dataframe thead th {\n",
       "        text-align: right;\n",
       "    }\n",
       "</style>\n",
       "<table border=\"1\" class=\"dataframe\">\n",
       "  <thead>\n",
       "    <tr style=\"text-align: right;\">\n",
       "      <th></th>\n",
       "      <th>category_list</th>\n",
       "      <th>Automotive &amp; Sports</th>\n",
       "      <th>Blanks</th>\n",
       "      <th>Cleantech / Semiconductors</th>\n",
       "      <th>Entertainment</th>\n",
       "      <th>Health</th>\n",
       "      <th>Manufacturing</th>\n",
       "      <th>News, Search and Messaging</th>\n",
       "      <th>Others</th>\n",
       "      <th>Social, Finance, Analytics, Advertising</th>\n",
       "    </tr>\n",
       "  </thead>\n",
       "  <tbody>\n",
       "    <tr>\n",
       "      <th>16</th>\n",
       "      <td>air pollution control</td>\n",
       "      <td>0</td>\n",
       "      <td>0</td>\n",
       "      <td>1</td>\n",
       "      <td>0</td>\n",
       "      <td>0</td>\n",
       "      <td>0</td>\n",
       "      <td>0</td>\n",
       "      <td>0</td>\n",
       "      <td>0</td>\n",
       "    </tr>\n",
       "    <tr>\n",
       "      <th>20</th>\n",
       "      <td>alter0tive medicine</td>\n",
       "      <td>0</td>\n",
       "      <td>0</td>\n",
       "      <td>0</td>\n",
       "      <td>0</td>\n",
       "      <td>1</td>\n",
       "      <td>0</td>\n",
       "      <td>0</td>\n",
       "      <td>0</td>\n",
       "      <td>0</td>\n",
       "    </tr>\n",
       "    <tr>\n",
       "      <th>22</th>\n",
       "      <td>a0lytics</td>\n",
       "      <td>0</td>\n",
       "      <td>0</td>\n",
       "      <td>0</td>\n",
       "      <td>0</td>\n",
       "      <td>0</td>\n",
       "      <td>0</td>\n",
       "      <td>0</td>\n",
       "      <td>0</td>\n",
       "      <td>1</td>\n",
       "    </tr>\n",
       "    <tr>\n",
       "      <th>33</th>\n",
       "      <td>aquaculture</td>\n",
       "      <td>0</td>\n",
       "      <td>0</td>\n",
       "      <td>1</td>\n",
       "      <td>0</td>\n",
       "      <td>0</td>\n",
       "      <td>0</td>\n",
       "      <td>0</td>\n",
       "      <td>0</td>\n",
       "      <td>0</td>\n",
       "    </tr>\n",
       "    <tr>\n",
       "      <th>49</th>\n",
       "      <td>b2b express delivery</td>\n",
       "      <td>0</td>\n",
       "      <td>0</td>\n",
       "      <td>0</td>\n",
       "      <td>0</td>\n",
       "      <td>0</td>\n",
       "      <td>0</td>\n",
       "      <td>0</td>\n",
       "      <td>0</td>\n",
       "      <td>1</td>\n",
       "    </tr>\n",
       "  </tbody>\n",
       "</table>\n",
       "</div>"
      ],
      "text/plain": [
       "            category_list  Automotive & Sports  Blanks  \\\n",
       "16  air pollution control                    0       0   \n",
       "20    alter0tive medicine                    0       0   \n",
       "22               a0lytics                    0       0   \n",
       "33            aquaculture                    0       0   \n",
       "49   b2b express delivery                    0       0   \n",
       "\n",
       "    Cleantech / Semiconductors  Entertainment  Health  Manufacturing  \\\n",
       "16                           1              0       0              0   \n",
       "20                           0              0       1              0   \n",
       "22                           0              0       0              0   \n",
       "33                           1              0       0              0   \n",
       "49                           0              0       0              0   \n",
       "\n",
       "    News, Search and Messaging  Others  \\\n",
       "16                           0       0   \n",
       "20                           0       0   \n",
       "22                           0       0   \n",
       "33                           0       0   \n",
       "49                           0       0   \n",
       "\n",
       "    Social, Finance, Analytics, Advertising  \n",
       "16                                        0  \n",
       "20                                        0  \n",
       "22                                        1  \n",
       "33                                        0  \n",
       "49                                        1  "
      ]
     },
     "execution_count": 58,
     "metadata": {},
     "output_type": "execute_result"
    }
   ],
   "source": [
    "# reverse of above -\n",
    "mapping[~mapping[\"category_list\"].isin(df[\"main_category\"])].head()"
   ]
  },
  {
   "cell_type": "code",
   "execution_count": 59,
   "id": "98734f02",
   "metadata": {},
   "outputs": [
    {
     "data": {
      "text/html": [
       "<div>\n",
       "<style scoped>\n",
       "    .dataframe tbody tr th:only-of-type {\n",
       "        vertical-align: middle;\n",
       "    }\n",
       "\n",
       "    .dataframe tbody tr th {\n",
       "        vertical-align: top;\n",
       "    }\n",
       "\n",
       "    .dataframe thead th {\n",
       "        text-align: right;\n",
       "    }\n",
       "</style>\n",
       "<table border=\"1\" class=\"dataframe\">\n",
       "  <thead>\n",
       "    <tr style=\"text-align: right;\">\n",
       "      <th></th>\n",
       "      <th>category_list</th>\n",
       "      <th>Automotive &amp; Sports</th>\n",
       "      <th>Blanks</th>\n",
       "      <th>Cleantech / Semiconductors</th>\n",
       "      <th>Entertainment</th>\n",
       "      <th>Health</th>\n",
       "      <th>Manufacturing</th>\n",
       "      <th>News, Search and Messaging</th>\n",
       "      <th>Others</th>\n",
       "      <th>Social, Finance, Analytics, Advertising</th>\n",
       "    </tr>\n",
       "  </thead>\n",
       "  <tbody>\n",
       "    <tr>\n",
       "      <th>1</th>\n",
       "      <td>3d</td>\n",
       "      <td>0</td>\n",
       "      <td>0</td>\n",
       "      <td>0</td>\n",
       "      <td>0</td>\n",
       "      <td>0</td>\n",
       "      <td>1</td>\n",
       "      <td>0</td>\n",
       "      <td>0</td>\n",
       "      <td>0</td>\n",
       "    </tr>\n",
       "    <tr>\n",
       "      <th>2</th>\n",
       "      <td>3d printing</td>\n",
       "      <td>0</td>\n",
       "      <td>0</td>\n",
       "      <td>0</td>\n",
       "      <td>0</td>\n",
       "      <td>0</td>\n",
       "      <td>1</td>\n",
       "      <td>0</td>\n",
       "      <td>0</td>\n",
       "      <td>0</td>\n",
       "    </tr>\n",
       "    <tr>\n",
       "      <th>3</th>\n",
       "      <td>3d technology</td>\n",
       "      <td>0</td>\n",
       "      <td>0</td>\n",
       "      <td>0</td>\n",
       "      <td>0</td>\n",
       "      <td>0</td>\n",
       "      <td>1</td>\n",
       "      <td>0</td>\n",
       "      <td>0</td>\n",
       "      <td>0</td>\n",
       "    </tr>\n",
       "    <tr>\n",
       "      <th>4</th>\n",
       "      <td>accounting</td>\n",
       "      <td>0</td>\n",
       "      <td>0</td>\n",
       "      <td>0</td>\n",
       "      <td>0</td>\n",
       "      <td>0</td>\n",
       "      <td>0</td>\n",
       "      <td>0</td>\n",
       "      <td>0</td>\n",
       "      <td>1</td>\n",
       "    </tr>\n",
       "    <tr>\n",
       "      <th>5</th>\n",
       "      <td>active lifestyle</td>\n",
       "      <td>0</td>\n",
       "      <td>0</td>\n",
       "      <td>0</td>\n",
       "      <td>0</td>\n",
       "      <td>1</td>\n",
       "      <td>0</td>\n",
       "      <td>0</td>\n",
       "      <td>0</td>\n",
       "      <td>0</td>\n",
       "    </tr>\n",
       "  </tbody>\n",
       "</table>\n",
       "</div>"
      ],
      "text/plain": [
       "      category_list  Automotive & Sports  Blanks  Cleantech / Semiconductors  \\\n",
       "1                3d                    0       0                           0   \n",
       "2       3d printing                    0       0                           0   \n",
       "3     3d technology                    0       0                           0   \n",
       "4        accounting                    0       0                           0   \n",
       "5  active lifestyle                    0       0                           0   \n",
       "\n",
       "   Entertainment  Health  Manufacturing  News, Search and Messaging  Others  \\\n",
       "1              0       0              1                           0       0   \n",
       "2              0       0              1                           0       0   \n",
       "3              0       0              1                           0       0   \n",
       "4              0       0              0                           0       0   \n",
       "5              0       1              0                           0       0   \n",
       "\n",
       "   Social, Finance, Analytics, Advertising  \n",
       "1                                        0  \n",
       "2                                        0  \n",
       "3                                        0  \n",
       "4                                        1  \n",
       "5                                        0  "
      ]
     },
     "execution_count": 59,
     "metadata": {},
     "output_type": "execute_result"
    }
   ],
   "source": [
    "# replace \"0\" with \"na\"\n",
    "mapping[\"category_list\"] = mapping[\"category_list\"].apply(lambda x : x.replace(\"0\", \"na\"))\n",
    "mapping.head()"
   ]
  },
  {
   "cell_type": "code",
   "execution_count": 60,
   "id": "1aaddb2d",
   "metadata": {},
   "outputs": [
    {
     "data": {
      "text/html": [
       "<div>\n",
       "<style scoped>\n",
       "    .dataframe tbody tr th:only-of-type {\n",
       "        vertical-align: middle;\n",
       "    }\n",
       "\n",
       "    .dataframe tbody tr th {\n",
       "        vertical-align: top;\n",
       "    }\n",
       "\n",
       "    .dataframe thead th {\n",
       "        text-align: right;\n",
       "    }\n",
       "</style>\n",
       "<table border=\"1\" class=\"dataframe\">\n",
       "  <thead>\n",
       "    <tr style=\"text-align: right;\">\n",
       "      <th></th>\n",
       "      <th>permalink</th>\n",
       "      <th>name</th>\n",
       "      <th>status</th>\n",
       "      <th>country_code</th>\n",
       "      <th>funding_round_permalink</th>\n",
       "      <th>funding_round_type</th>\n",
       "      <th>funded_at</th>\n",
       "      <th>raised_amount_usd</th>\n",
       "      <th>main_category</th>\n",
       "      <th>category_list</th>\n",
       "      <th>Automotive &amp; Sports</th>\n",
       "      <th>Blanks</th>\n",
       "      <th>Cleantech / Semiconductors</th>\n",
       "      <th>Entertainment</th>\n",
       "      <th>Health</th>\n",
       "      <th>Manufacturing</th>\n",
       "      <th>News, Search and Messaging</th>\n",
       "      <th>Others</th>\n",
       "      <th>Social, Finance, Analytics, Advertising</th>\n",
       "    </tr>\n",
       "  </thead>\n",
       "  <tbody>\n",
       "    <tr>\n",
       "      <th>0</th>\n",
       "      <td>/organization/-fame</td>\n",
       "      <td>#fame</td>\n",
       "      <td>operating</td>\n",
       "      <td>IND</td>\n",
       "      <td>/funding-round/9a01d05418af9f794eebff7ace91f638</td>\n",
       "      <td>venture</td>\n",
       "      <td>05-01-2015</td>\n",
       "      <td>10000000.0</td>\n",
       "      <td>media</td>\n",
       "      <td>media</td>\n",
       "      <td>0</td>\n",
       "      <td>0</td>\n",
       "      <td>0</td>\n",
       "      <td>1</td>\n",
       "      <td>0</td>\n",
       "      <td>0</td>\n",
       "      <td>0</td>\n",
       "      <td>0</td>\n",
       "      <td>0</td>\n",
       "    </tr>\n",
       "    <tr>\n",
       "      <th>1</th>\n",
       "      <td>/organization/90min</td>\n",
       "      <td>90min</td>\n",
       "      <td>operating</td>\n",
       "      <td>GBR</td>\n",
       "      <td>/funding-round/21a2cbf6f2fb2a1c2a61e04bf930dfe6</td>\n",
       "      <td>venture</td>\n",
       "      <td>06-10-2015</td>\n",
       "      <td>15000000.0</td>\n",
       "      <td>media</td>\n",
       "      <td>media</td>\n",
       "      <td>0</td>\n",
       "      <td>0</td>\n",
       "      <td>0</td>\n",
       "      <td>1</td>\n",
       "      <td>0</td>\n",
       "      <td>0</td>\n",
       "      <td>0</td>\n",
       "      <td>0</td>\n",
       "      <td>0</td>\n",
       "    </tr>\n",
       "    <tr>\n",
       "      <th>2</th>\n",
       "      <td>/organization/90min</td>\n",
       "      <td>90min</td>\n",
       "      <td>operating</td>\n",
       "      <td>GBR</td>\n",
       "      <td>/funding-round/bd626ed022f5c66574b1afe234f3c90d</td>\n",
       "      <td>venture</td>\n",
       "      <td>07-05-2013</td>\n",
       "      <td>5800000.0</td>\n",
       "      <td>media</td>\n",
       "      <td>media</td>\n",
       "      <td>0</td>\n",
       "      <td>0</td>\n",
       "      <td>0</td>\n",
       "      <td>1</td>\n",
       "      <td>0</td>\n",
       "      <td>0</td>\n",
       "      <td>0</td>\n",
       "      <td>0</td>\n",
       "      <td>0</td>\n",
       "    </tr>\n",
       "    <tr>\n",
       "      <th>3</th>\n",
       "      <td>/organization/90min</td>\n",
       "      <td>90min</td>\n",
       "      <td>operating</td>\n",
       "      <td>GBR</td>\n",
       "      <td>/funding-round/fd4b15e8c97ee2ffc0acccdbe1a98810</td>\n",
       "      <td>venture</td>\n",
       "      <td>26-03-2014</td>\n",
       "      <td>18000000.0</td>\n",
       "      <td>media</td>\n",
       "      <td>media</td>\n",
       "      <td>0</td>\n",
       "      <td>0</td>\n",
       "      <td>0</td>\n",
       "      <td>1</td>\n",
       "      <td>0</td>\n",
       "      <td>0</td>\n",
       "      <td>0</td>\n",
       "      <td>0</td>\n",
       "      <td>0</td>\n",
       "    </tr>\n",
       "    <tr>\n",
       "      <th>4</th>\n",
       "      <td>/organization/all-def-digital</td>\n",
       "      <td>All Def Digital</td>\n",
       "      <td>operating</td>\n",
       "      <td>USA</td>\n",
       "      <td>/funding-round/452a2342fe720285c3b92e9bd927d9ba</td>\n",
       "      <td>venture</td>\n",
       "      <td>06-08-2014</td>\n",
       "      <td>5000000.0</td>\n",
       "      <td>media</td>\n",
       "      <td>media</td>\n",
       "      <td>0</td>\n",
       "      <td>0</td>\n",
       "      <td>0</td>\n",
       "      <td>1</td>\n",
       "      <td>0</td>\n",
       "      <td>0</td>\n",
       "      <td>0</td>\n",
       "      <td>0</td>\n",
       "      <td>0</td>\n",
       "    </tr>\n",
       "  </tbody>\n",
       "</table>\n",
       "</div>"
      ],
      "text/plain": [
       "                       permalink             name     status country_code  \\\n",
       "0            /organization/-fame            #fame  operating          IND   \n",
       "1            /organization/90min            90min  operating          GBR   \n",
       "2            /organization/90min            90min  operating          GBR   \n",
       "3            /organization/90min            90min  operating          GBR   \n",
       "4  /organization/all-def-digital  All Def Digital  operating          USA   \n",
       "\n",
       "                           funding_round_permalink funding_round_type  \\\n",
       "0  /funding-round/9a01d05418af9f794eebff7ace91f638            venture   \n",
       "1  /funding-round/21a2cbf6f2fb2a1c2a61e04bf930dfe6            venture   \n",
       "2  /funding-round/bd626ed022f5c66574b1afe234f3c90d            venture   \n",
       "3  /funding-round/fd4b15e8c97ee2ffc0acccdbe1a98810            venture   \n",
       "4  /funding-round/452a2342fe720285c3b92e9bd927d9ba            venture   \n",
       "\n",
       "    funded_at  raised_amount_usd main_category category_list  \\\n",
       "0  05-01-2015         10000000.0         media         media   \n",
       "1  06-10-2015         15000000.0         media         media   \n",
       "2  07-05-2013          5800000.0         media         media   \n",
       "3  26-03-2014         18000000.0         media         media   \n",
       "4  06-08-2014          5000000.0         media         media   \n",
       "\n",
       "   Automotive & Sports  Blanks  Cleantech / Semiconductors  Entertainment  \\\n",
       "0                    0       0                           0              1   \n",
       "1                    0       0                           0              1   \n",
       "2                    0       0                           0              1   \n",
       "3                    0       0                           0              1   \n",
       "4                    0       0                           0              1   \n",
       "\n",
       "   Health  Manufacturing  News, Search and Messaging  Others  \\\n",
       "0       0              0                           0       0   \n",
       "1       0              0                           0       0   \n",
       "2       0              0                           0       0   \n",
       "3       0              0                           0       0   \n",
       "4       0              0                           0       0   \n",
       "\n",
       "   Social, Finance, Analytics, Advertising  \n",
       "0                                        0  \n",
       "1                                        0  \n",
       "2                                        0  \n",
       "3                                        0  \n",
       "4                                        0  "
      ]
     },
     "execution_count": 60,
     "metadata": {},
     "output_type": "execute_result"
    }
   ],
   "source": [
    "# merge the two dataframes -\n",
    "df = pd.merge(df, mapping, how = \"inner\", left_on = \"main_category\", right_on = \"category_list\")\n",
    "df.head()"
   ]
  },
  {
   "cell_type": "code",
   "execution_count": 61,
   "id": "25a3ec4c",
   "metadata": {},
   "outputs": [
    {
     "data": {
      "text/html": [
       "<div>\n",
       "<style scoped>\n",
       "    .dataframe tbody tr th:only-of-type {\n",
       "        vertical-align: middle;\n",
       "    }\n",
       "\n",
       "    .dataframe tbody tr th {\n",
       "        vertical-align: top;\n",
       "    }\n",
       "\n",
       "    .dataframe thead th {\n",
       "        text-align: right;\n",
       "    }\n",
       "</style>\n",
       "<table border=\"1\" class=\"dataframe\">\n",
       "  <thead>\n",
       "    <tr style=\"text-align: right;\">\n",
       "      <th></th>\n",
       "      <th>permalink</th>\n",
       "      <th>name</th>\n",
       "      <th>status</th>\n",
       "      <th>country_code</th>\n",
       "      <th>funding_round_permalink</th>\n",
       "      <th>funding_round_type</th>\n",
       "      <th>funded_at</th>\n",
       "      <th>raised_amount_usd</th>\n",
       "      <th>main_category</th>\n",
       "      <th>Automotive &amp; Sports</th>\n",
       "      <th>Blanks</th>\n",
       "      <th>Cleantech / Semiconductors</th>\n",
       "      <th>Entertainment</th>\n",
       "      <th>Health</th>\n",
       "      <th>Manufacturing</th>\n",
       "      <th>News, Search and Messaging</th>\n",
       "      <th>Others</th>\n",
       "      <th>Social, Finance, Analytics, Advertising</th>\n",
       "    </tr>\n",
       "  </thead>\n",
       "  <tbody>\n",
       "    <tr>\n",
       "      <th>0</th>\n",
       "      <td>/organization/-fame</td>\n",
       "      <td>#fame</td>\n",
       "      <td>operating</td>\n",
       "      <td>IND</td>\n",
       "      <td>/funding-round/9a01d05418af9f794eebff7ace91f638</td>\n",
       "      <td>venture</td>\n",
       "      <td>05-01-2015</td>\n",
       "      <td>10000000.0</td>\n",
       "      <td>media</td>\n",
       "      <td>0</td>\n",
       "      <td>0</td>\n",
       "      <td>0</td>\n",
       "      <td>1</td>\n",
       "      <td>0</td>\n",
       "      <td>0</td>\n",
       "      <td>0</td>\n",
       "      <td>0</td>\n",
       "      <td>0</td>\n",
       "    </tr>\n",
       "    <tr>\n",
       "      <th>1</th>\n",
       "      <td>/organization/90min</td>\n",
       "      <td>90min</td>\n",
       "      <td>operating</td>\n",
       "      <td>GBR</td>\n",
       "      <td>/funding-round/21a2cbf6f2fb2a1c2a61e04bf930dfe6</td>\n",
       "      <td>venture</td>\n",
       "      <td>06-10-2015</td>\n",
       "      <td>15000000.0</td>\n",
       "      <td>media</td>\n",
       "      <td>0</td>\n",
       "      <td>0</td>\n",
       "      <td>0</td>\n",
       "      <td>1</td>\n",
       "      <td>0</td>\n",
       "      <td>0</td>\n",
       "      <td>0</td>\n",
       "      <td>0</td>\n",
       "      <td>0</td>\n",
       "    </tr>\n",
       "    <tr>\n",
       "      <th>2</th>\n",
       "      <td>/organization/90min</td>\n",
       "      <td>90min</td>\n",
       "      <td>operating</td>\n",
       "      <td>GBR</td>\n",
       "      <td>/funding-round/bd626ed022f5c66574b1afe234f3c90d</td>\n",
       "      <td>venture</td>\n",
       "      <td>07-05-2013</td>\n",
       "      <td>5800000.0</td>\n",
       "      <td>media</td>\n",
       "      <td>0</td>\n",
       "      <td>0</td>\n",
       "      <td>0</td>\n",
       "      <td>1</td>\n",
       "      <td>0</td>\n",
       "      <td>0</td>\n",
       "      <td>0</td>\n",
       "      <td>0</td>\n",
       "      <td>0</td>\n",
       "    </tr>\n",
       "    <tr>\n",
       "      <th>3</th>\n",
       "      <td>/organization/90min</td>\n",
       "      <td>90min</td>\n",
       "      <td>operating</td>\n",
       "      <td>GBR</td>\n",
       "      <td>/funding-round/fd4b15e8c97ee2ffc0acccdbe1a98810</td>\n",
       "      <td>venture</td>\n",
       "      <td>26-03-2014</td>\n",
       "      <td>18000000.0</td>\n",
       "      <td>media</td>\n",
       "      <td>0</td>\n",
       "      <td>0</td>\n",
       "      <td>0</td>\n",
       "      <td>1</td>\n",
       "      <td>0</td>\n",
       "      <td>0</td>\n",
       "      <td>0</td>\n",
       "      <td>0</td>\n",
       "      <td>0</td>\n",
       "    </tr>\n",
       "    <tr>\n",
       "      <th>4</th>\n",
       "      <td>/organization/all-def-digital</td>\n",
       "      <td>All Def Digital</td>\n",
       "      <td>operating</td>\n",
       "      <td>USA</td>\n",
       "      <td>/funding-round/452a2342fe720285c3b92e9bd927d9ba</td>\n",
       "      <td>venture</td>\n",
       "      <td>06-08-2014</td>\n",
       "      <td>5000000.0</td>\n",
       "      <td>media</td>\n",
       "      <td>0</td>\n",
       "      <td>0</td>\n",
       "      <td>0</td>\n",
       "      <td>1</td>\n",
       "      <td>0</td>\n",
       "      <td>0</td>\n",
       "      <td>0</td>\n",
       "      <td>0</td>\n",
       "      <td>0</td>\n",
       "    </tr>\n",
       "  </tbody>\n",
       "</table>\n",
       "</div>"
      ],
      "text/plain": [
       "                       permalink             name     status country_code  \\\n",
       "0            /organization/-fame            #fame  operating          IND   \n",
       "1            /organization/90min            90min  operating          GBR   \n",
       "2            /organization/90min            90min  operating          GBR   \n",
       "3            /organization/90min            90min  operating          GBR   \n",
       "4  /organization/all-def-digital  All Def Digital  operating          USA   \n",
       "\n",
       "                           funding_round_permalink funding_round_type  \\\n",
       "0  /funding-round/9a01d05418af9f794eebff7ace91f638            venture   \n",
       "1  /funding-round/21a2cbf6f2fb2a1c2a61e04bf930dfe6            venture   \n",
       "2  /funding-round/bd626ed022f5c66574b1afe234f3c90d            venture   \n",
       "3  /funding-round/fd4b15e8c97ee2ffc0acccdbe1a98810            venture   \n",
       "4  /funding-round/452a2342fe720285c3b92e9bd927d9ba            venture   \n",
       "\n",
       "    funded_at  raised_amount_usd main_category  Automotive & Sports  Blanks  \\\n",
       "0  05-01-2015         10000000.0         media                    0       0   \n",
       "1  06-10-2015         15000000.0         media                    0       0   \n",
       "2  07-05-2013          5800000.0         media                    0       0   \n",
       "3  26-03-2014         18000000.0         media                    0       0   \n",
       "4  06-08-2014          5000000.0         media                    0       0   \n",
       "\n",
       "   Cleantech / Semiconductors  Entertainment  Health  Manufacturing  \\\n",
       "0                           0              1       0              0   \n",
       "1                           0              1       0              0   \n",
       "2                           0              1       0              0   \n",
       "3                           0              1       0              0   \n",
       "4                           0              1       0              0   \n",
       "\n",
       "   News, Search and Messaging  Others  Social, Finance, Analytics, Advertising  \n",
       "0                           0       0                                        0  \n",
       "1                           0       0                                        0  \n",
       "2                           0       0                                        0  \n",
       "3                           0       0                                        0  \n",
       "4                           0       0                                        0  "
      ]
     },
     "execution_count": 61,
     "metadata": {},
     "output_type": "execute_result"
    }
   ],
   "source": [
    "# Drop common column category_list -\n",
    "df = df.drop(\"category_list\", axis = 1)\n",
    "df.head()"
   ]
  },
  {
   "cell_type": "code",
   "execution_count": 62,
   "id": "96c52d22",
   "metadata": {},
   "outputs": [
    {
     "name": "stdout",
     "output_type": "stream",
     "text": [
      "<class 'pandas.core.frame.DataFrame'>\n",
      "Int64Index: 38788 entries, 0 to 38787\n",
      "Data columns (total 18 columns):\n",
      " #   Column                                   Non-Null Count  Dtype  \n",
      "---  ------                                   --------------  -----  \n",
      " 0   permalink                                38788 non-null  object \n",
      " 1   name                                     38788 non-null  object \n",
      " 2   status                                   38788 non-null  object \n",
      " 3   country_code                             38788 non-null  object \n",
      " 4   funding_round_permalink                  38788 non-null  object \n",
      " 5   funding_round_type                       38788 non-null  object \n",
      " 6   funded_at                                38788 non-null  object \n",
      " 7   raised_amount_usd                        38788 non-null  float64\n",
      " 8   main_category                            38788 non-null  object \n",
      " 9   Automotive & Sports                      38788 non-null  int64  \n",
      " 10  Blanks                                   38788 non-null  int64  \n",
      " 11  Cleantech / Semiconductors               38788 non-null  int64  \n",
      " 12  Entertainment                            38788 non-null  int64  \n",
      " 13  Health                                   38788 non-null  int64  \n",
      " 14  Manufacturing                            38788 non-null  int64  \n",
      " 15  News, Search and Messaging               38788 non-null  int64  \n",
      " 16  Others                                   38788 non-null  int64  \n",
      " 17  Social, Finance, Analytics, Advertising  38788 non-null  int64  \n",
      "dtypes: float64(1), int64(9), object(8)\n",
      "memory usage: 5.6+ MB\n"
     ]
    }
   ],
   "source": [
    "df.info()"
   ]
  },
  {
   "cell_type": "code",
   "execution_count": 66,
   "id": "249ab3cc",
   "metadata": {},
   "outputs": [],
   "source": [
    "# we need to melt the columns of mapping -\n",
    "values_vars = df.columns[9:18]\n",
    "\n",
    "id_vars = np.setdiff1d(df.columns, values_vars)\n",
    "\n"
   ]
  },
  {
   "cell_type": "code",
   "execution_count": 67,
   "id": "89c81530",
   "metadata": {},
   "outputs": [
    {
     "data": {
      "text/plain": [
       "Index(['Automotive & Sports', 'Blanks', 'Cleantech / Semiconductors',\n",
       "       'Entertainment', 'Health', 'Manufacturing',\n",
       "       'News, Search and Messaging', 'Others',\n",
       "       'Social, Finance, Analytics, Advertising'],\n",
       "      dtype='object')"
      ]
     },
     "execution_count": 67,
     "metadata": {},
     "output_type": "execute_result"
    }
   ],
   "source": [
    "values_vars"
   ]
  },
  {
   "cell_type": "code",
   "execution_count": 68,
   "id": "8ea8a119",
   "metadata": {},
   "outputs": [
    {
     "data": {
      "text/plain": [
       "array(['country_code', 'funded_at', 'funding_round_permalink',\n",
       "       'funding_round_type', 'main_category', 'name', 'permalink',\n",
       "       'raised_amount_usd', 'status'], dtype=object)"
      ]
     },
     "execution_count": 68,
     "metadata": {},
     "output_type": "execute_result"
    }
   ],
   "source": [
    "id_vars"
   ]
  },
  {
   "cell_type": "code",
   "execution_count": 71,
   "id": "ac2bcadc",
   "metadata": {},
   "outputs": [
    {
     "data": {
      "text/html": [
       "<div>\n",
       "<style scoped>\n",
       "    .dataframe tbody tr th:only-of-type {\n",
       "        vertical-align: middle;\n",
       "    }\n",
       "\n",
       "    .dataframe tbody tr th {\n",
       "        vertical-align: top;\n",
       "    }\n",
       "\n",
       "    .dataframe thead th {\n",
       "        text-align: right;\n",
       "    }\n",
       "</style>\n",
       "<table border=\"1\" class=\"dataframe\">\n",
       "  <thead>\n",
       "    <tr style=\"text-align: right;\">\n",
       "      <th></th>\n",
       "      <th>country_code</th>\n",
       "      <th>funded_at</th>\n",
       "      <th>funding_round_permalink</th>\n",
       "      <th>funding_round_type</th>\n",
       "      <th>main_category</th>\n",
       "      <th>name</th>\n",
       "      <th>permalink</th>\n",
       "      <th>raised_amount_usd</th>\n",
       "      <th>status</th>\n",
       "      <th>variable</th>\n",
       "      <th>value</th>\n",
       "    </tr>\n",
       "  </thead>\n",
       "  <tbody>\n",
       "    <tr>\n",
       "      <th>0</th>\n",
       "      <td>IND</td>\n",
       "      <td>05-01-2015</td>\n",
       "      <td>/funding-round/9a01d05418af9f794eebff7ace91f638</td>\n",
       "      <td>venture</td>\n",
       "      <td>media</td>\n",
       "      <td>#fame</td>\n",
       "      <td>/organization/-fame</td>\n",
       "      <td>10000000.0</td>\n",
       "      <td>operating</td>\n",
       "      <td>Automotive &amp; Sports</td>\n",
       "      <td>0</td>\n",
       "    </tr>\n",
       "    <tr>\n",
       "      <th>1</th>\n",
       "      <td>GBR</td>\n",
       "      <td>06-10-2015</td>\n",
       "      <td>/funding-round/21a2cbf6f2fb2a1c2a61e04bf930dfe6</td>\n",
       "      <td>venture</td>\n",
       "      <td>media</td>\n",
       "      <td>90min</td>\n",
       "      <td>/organization/90min</td>\n",
       "      <td>15000000.0</td>\n",
       "      <td>operating</td>\n",
       "      <td>Automotive &amp; Sports</td>\n",
       "      <td>0</td>\n",
       "    </tr>\n",
       "    <tr>\n",
       "      <th>2</th>\n",
       "      <td>GBR</td>\n",
       "      <td>07-05-2013</td>\n",
       "      <td>/funding-round/bd626ed022f5c66574b1afe234f3c90d</td>\n",
       "      <td>venture</td>\n",
       "      <td>media</td>\n",
       "      <td>90min</td>\n",
       "      <td>/organization/90min</td>\n",
       "      <td>5800000.0</td>\n",
       "      <td>operating</td>\n",
       "      <td>Automotive &amp; Sports</td>\n",
       "      <td>0</td>\n",
       "    </tr>\n",
       "    <tr>\n",
       "      <th>3</th>\n",
       "      <td>GBR</td>\n",
       "      <td>26-03-2014</td>\n",
       "      <td>/funding-round/fd4b15e8c97ee2ffc0acccdbe1a98810</td>\n",
       "      <td>venture</td>\n",
       "      <td>media</td>\n",
       "      <td>90min</td>\n",
       "      <td>/organization/90min</td>\n",
       "      <td>18000000.0</td>\n",
       "      <td>operating</td>\n",
       "      <td>Automotive &amp; Sports</td>\n",
       "      <td>0</td>\n",
       "    </tr>\n",
       "    <tr>\n",
       "      <th>4</th>\n",
       "      <td>USA</td>\n",
       "      <td>06-08-2014</td>\n",
       "      <td>/funding-round/452a2342fe720285c3b92e9bd927d9ba</td>\n",
       "      <td>venture</td>\n",
       "      <td>media</td>\n",
       "      <td>All Def Digital</td>\n",
       "      <td>/organization/all-def-digital</td>\n",
       "      <td>5000000.0</td>\n",
       "      <td>operating</td>\n",
       "      <td>Automotive &amp; Sports</td>\n",
       "      <td>0</td>\n",
       "    </tr>\n",
       "  </tbody>\n",
       "</table>\n",
       "</div>"
      ],
      "text/plain": [
       "  country_code   funded_at                          funding_round_permalink  \\\n",
       "0          IND  05-01-2015  /funding-round/9a01d05418af9f794eebff7ace91f638   \n",
       "1          GBR  06-10-2015  /funding-round/21a2cbf6f2fb2a1c2a61e04bf930dfe6   \n",
       "2          GBR  07-05-2013  /funding-round/bd626ed022f5c66574b1afe234f3c90d   \n",
       "3          GBR  26-03-2014  /funding-round/fd4b15e8c97ee2ffc0acccdbe1a98810   \n",
       "4          USA  06-08-2014  /funding-round/452a2342fe720285c3b92e9bd927d9ba   \n",
       "\n",
       "  funding_round_type main_category             name  \\\n",
       "0            venture         media            #fame   \n",
       "1            venture         media            90min   \n",
       "2            venture         media            90min   \n",
       "3            venture         media            90min   \n",
       "4            venture         media  All Def Digital   \n",
       "\n",
       "                       permalink  raised_amount_usd     status  \\\n",
       "0            /organization/-fame         10000000.0  operating   \n",
       "1            /organization/90min         15000000.0  operating   \n",
       "2            /organization/90min          5800000.0  operating   \n",
       "3            /organization/90min         18000000.0  operating   \n",
       "4  /organization/all-def-digital          5000000.0  operating   \n",
       "\n",
       "              variable  value  \n",
       "0  Automotive & Sports      0  \n",
       "1  Automotive & Sports      0  \n",
       "2  Automotive & Sports      0  \n",
       "3  Automotive & Sports      0  \n",
       "4  Automotive & Sports      0  "
      ]
     },
     "execution_count": 71,
     "metadata": {},
     "output_type": "execute_result"
    }
   ],
   "source": [
    "# melting -\n",
    "long_df = pd.melt(df, \n",
    "                 id_vars = list(id_vars),\n",
    "                 value_vars = list(values_vars))\n",
    "long_df.head()"
   ]
  },
  {
   "cell_type": "code",
   "execution_count": 73,
   "id": "ab81feb5",
   "metadata": {},
   "outputs": [],
   "source": [
    "# remove rows that have \"0\" values -\n",
    "long_df = long_df[long_df[\"value\"] == 1]\n",
    "long_df = long_df.drop(\"value\", axis = 1)"
   ]
  },
  {
   "cell_type": "code",
   "execution_count": 75,
   "id": "77ab8b1e",
   "metadata": {},
   "outputs": [
    {
     "data": {
      "text/plain": [
       "38788"
      ]
     },
     "execution_count": 75,
     "metadata": {},
     "output_type": "execute_result"
    }
   ],
   "source": [
    "long_df.head()\n",
    "len(long_df)"
   ]
  },
  {
   "cell_type": "code",
   "execution_count": 76,
   "id": "4e46a839",
   "metadata": {},
   "outputs": [],
   "source": [
    "# rename the variable column -\n",
    "long_df = long_df.rename(columns = {\"variable\" : \"sector\"})"
   ]
  },
  {
   "cell_type": "code",
   "execution_count": 77,
   "id": "8c1927b0",
   "metadata": {},
   "outputs": [
    {
     "name": "stdout",
     "output_type": "stream",
     "text": [
      "<class 'pandas.core.frame.DataFrame'>\n",
      "Int64Index: 38788 entries, 25828 to 349075\n",
      "Data columns (total 10 columns):\n",
      " #   Column                   Non-Null Count  Dtype  \n",
      "---  ------                   --------------  -----  \n",
      " 0   country_code             38788 non-null  object \n",
      " 1   funded_at                38788 non-null  object \n",
      " 2   funding_round_permalink  38788 non-null  object \n",
      " 3   funding_round_type       38788 non-null  object \n",
      " 4   main_category            38788 non-null  object \n",
      " 5   name                     38788 non-null  object \n",
      " 6   permalink                38788 non-null  object \n",
      " 7   raised_amount_usd        38788 non-null  float64\n",
      " 8   status                   38788 non-null  object \n",
      " 9   sector                   38788 non-null  object \n",
      "dtypes: float64(1), object(9)\n",
      "memory usage: 3.3+ MB\n"
     ]
    }
   ],
   "source": [
    "long_df.info()"
   ]
  },
  {
   "cell_type": "code",
   "execution_count": 80,
   "id": "7feea740",
   "metadata": {},
   "outputs": [],
   "source": [
    "# Summary -\n",
    "df = long_df[(long_df[\"raised_amount_usd\"] >= 5000000) & (long_df[\"raised_amount_usd\"] <= 15000000)]"
   ]
  },
  {
   "cell_type": "code",
   "execution_count": 81,
   "id": "a5d9adce",
   "metadata": {},
   "outputs": [
    {
     "data": {
      "text/html": [
       "<div>\n",
       "<style scoped>\n",
       "    .dataframe tbody tr th:only-of-type {\n",
       "        vertical-align: middle;\n",
       "    }\n",
       "\n",
       "    .dataframe tbody tr th {\n",
       "        vertical-align: top;\n",
       "    }\n",
       "\n",
       "    .dataframe thead th {\n",
       "        text-align: right;\n",
       "    }\n",
       "</style>\n",
       "<table border=\"1\" class=\"dataframe\">\n",
       "  <thead>\n",
       "    <tr style=\"text-align: right;\">\n",
       "      <th></th>\n",
       "      <th></th>\n",
       "      <th>count</th>\n",
       "      <th>sum</th>\n",
       "    </tr>\n",
       "    <tr>\n",
       "      <th>country_code</th>\n",
       "      <th>sector</th>\n",
       "      <th></th>\n",
       "      <th></th>\n",
       "    </tr>\n",
       "  </thead>\n",
       "  <tbody>\n",
       "    <tr>\n",
       "      <th rowspan=\"8\" valign=\"top\">GBR</th>\n",
       "      <th>Automotive &amp; Sports</th>\n",
       "      <td>16</td>\n",
       "      <td>1.670516e+08</td>\n",
       "    </tr>\n",
       "    <tr>\n",
       "      <th>Cleantech / Semiconductors</th>\n",
       "      <td>130</td>\n",
       "      <td>1.163990e+09</td>\n",
       "    </tr>\n",
       "    <tr>\n",
       "      <th>Entertainment</th>\n",
       "      <td>56</td>\n",
       "      <td>4.827847e+08</td>\n",
       "    </tr>\n",
       "    <tr>\n",
       "      <th>Health</th>\n",
       "      <td>24</td>\n",
       "      <td>2.145375e+08</td>\n",
       "    </tr>\n",
       "    <tr>\n",
       "      <th>Manufacturing</th>\n",
       "      <td>42</td>\n",
       "      <td>3.619403e+08</td>\n",
       "    </tr>\n",
       "    <tr>\n",
       "      <th>News, Search and Messaging</th>\n",
       "      <td>73</td>\n",
       "      <td>6.157462e+08</td>\n",
       "    </tr>\n",
       "    <tr>\n",
       "      <th>Others</th>\n",
       "      <td>147</td>\n",
       "      <td>1.283624e+09</td>\n",
       "    </tr>\n",
       "    <tr>\n",
       "      <th>Social, Finance, Analytics, Advertising</th>\n",
       "      <td>133</td>\n",
       "      <td>1.089404e+09</td>\n",
       "    </tr>\n",
       "    <tr>\n",
       "      <th rowspan=\"8\" valign=\"top\">IND</th>\n",
       "      <th>Automotive &amp; Sports</th>\n",
       "      <td>13</td>\n",
       "      <td>1.369000e+08</td>\n",
       "    </tr>\n",
       "    <tr>\n",
       "      <th>Cleantech / Semiconductors</th>\n",
       "      <td>20</td>\n",
       "      <td>1.653800e+08</td>\n",
       "    </tr>\n",
       "    <tr>\n",
       "      <th>Entertainment</th>\n",
       "      <td>33</td>\n",
       "      <td>2.808300e+08</td>\n",
       "    </tr>\n",
       "    <tr>\n",
       "      <th>Health</th>\n",
       "      <td>19</td>\n",
       "      <td>1.677400e+08</td>\n",
       "    </tr>\n",
       "    <tr>\n",
       "      <th>Manufacturing</th>\n",
       "      <td>21</td>\n",
       "      <td>2.009000e+08</td>\n",
       "    </tr>\n",
       "    <tr>\n",
       "      <th>News, Search and Messaging</th>\n",
       "      <td>52</td>\n",
       "      <td>4.338345e+08</td>\n",
       "    </tr>\n",
       "    <tr>\n",
       "      <th>Others</th>\n",
       "      <td>110</td>\n",
       "      <td>1.013410e+09</td>\n",
       "    </tr>\n",
       "    <tr>\n",
       "      <th>Social, Finance, Analytics, Advertising</th>\n",
       "      <td>60</td>\n",
       "      <td>5.505496e+08</td>\n",
       "    </tr>\n",
       "    <tr>\n",
       "      <th rowspan=\"8\" valign=\"top\">USA</th>\n",
       "      <th>Automotive &amp; Sports</th>\n",
       "      <td>167</td>\n",
       "      <td>1.454104e+09</td>\n",
       "    </tr>\n",
       "    <tr>\n",
       "      <th>Cleantech / Semiconductors</th>\n",
       "      <td>2350</td>\n",
       "      <td>2.163343e+10</td>\n",
       "    </tr>\n",
       "    <tr>\n",
       "      <th>Entertainment</th>\n",
       "      <td>591</td>\n",
       "      <td>5.099198e+09</td>\n",
       "    </tr>\n",
       "    <tr>\n",
       "      <th>Health</th>\n",
       "      <td>909</td>\n",
       "      <td>8.211859e+09</td>\n",
       "    </tr>\n",
       "    <tr>\n",
       "      <th>Manufacturing</th>\n",
       "      <td>799</td>\n",
       "      <td>7.258553e+09</td>\n",
       "    </tr>\n",
       "    <tr>\n",
       "      <th>News, Search and Messaging</th>\n",
       "      <td>1583</td>\n",
       "      <td>1.397157e+10</td>\n",
       "    </tr>\n",
       "    <tr>\n",
       "      <th>Others</th>\n",
       "      <td>2950</td>\n",
       "      <td>2.632101e+10</td>\n",
       "    </tr>\n",
       "    <tr>\n",
       "      <th>Social, Finance, Analytics, Advertising</th>\n",
       "      <td>2714</td>\n",
       "      <td>2.380738e+10</td>\n",
       "    </tr>\n",
       "  </tbody>\n",
       "</table>\n",
       "</div>"
      ],
      "text/plain": [
       "                                                      count           sum\n",
       "country_code sector                                                      \n",
       "GBR          Automotive & Sports                         16  1.670516e+08\n",
       "             Cleantech / Semiconductors                 130  1.163990e+09\n",
       "             Entertainment                               56  4.827847e+08\n",
       "             Health                                      24  2.145375e+08\n",
       "             Manufacturing                               42  3.619403e+08\n",
       "             News, Search and Messaging                  73  6.157462e+08\n",
       "             Others                                     147  1.283624e+09\n",
       "             Social, Finance, Analytics, Advertising    133  1.089404e+09\n",
       "IND          Automotive & Sports                         13  1.369000e+08\n",
       "             Cleantech / Semiconductors                  20  1.653800e+08\n",
       "             Entertainment                               33  2.808300e+08\n",
       "             Health                                      19  1.677400e+08\n",
       "             Manufacturing                               21  2.009000e+08\n",
       "             News, Search and Messaging                  52  4.338345e+08\n",
       "             Others                                     110  1.013410e+09\n",
       "             Social, Finance, Analytics, Advertising     60  5.505496e+08\n",
       "USA          Automotive & Sports                        167  1.454104e+09\n",
       "             Cleantech / Semiconductors                2350  2.163343e+10\n",
       "             Entertainment                              591  5.099198e+09\n",
       "             Health                                     909  8.211859e+09\n",
       "             Manufacturing                              799  7.258553e+09\n",
       "             News, Search and Messaging                1583  1.397157e+10\n",
       "             Others                                    2950  2.632101e+10\n",
       "             Social, Finance, Analytics, Advertising   2714  2.380738e+10"
      ]
     },
     "execution_count": 81,
     "metadata": {},
     "output_type": "execute_result"
    }
   ],
   "source": [
    "df.groupby([\"country_code\", \"sector\"])[\"raised_amount_usd\"].agg([\"count\", \"sum\"])"
   ]
  },
  {
   "cell_type": "code",
   "execution_count": 86,
   "id": "f9cd6d57",
   "metadata": {},
   "outputs": [
    {
     "data": {
      "image/png": "[encoded data removed]",
      "text/plain": [
       "<Figure size 1600x1400 with 2 Axes>"
      ]
     },
     "metadata": {},
     "output_type": "display_data"
    }
   ],
   "source": [
    "# Plots -\n",
    "\n",
    "plt.figure(figsize = (16,14))\n",
    "\n",
    "plt.subplot(2,1,1)\n",
    "p = sns.barplot(x = \"sector\", y = \"raised_amount_usd\", hue = \"country_code\", data = df)\n",
    "p.set_xticklabels(p.get_xticklabels(), rotation = 30)\n",
    "plt.title(\"Total Investment Amount USD\")\n",
    "\n",
    "\n",
    "plt.subplot(2,1,2)\n",
    "q = sns.countplot(x = \"sector\", hue = \"country_code\", data = df)\n",
    "q.set_xticklabels(q.get_xticklabels(), rotation = 30)\n",
    "plt.title(\"Number of Investments\")\n",
    "\n",
    "plt.show()\n"
   ]
  },
  {
   "cell_type": "code",
   "execution_count": null,
   "id": "541640fc",
   "metadata": {},
   "outputs": [],
   "source": []
  }
 ],
 "metadata": {
  "kernelspec": {
   "display_name": "Python 3 (ipykernel)",
   "language": "python",
   "name": "python3"
  },
  "language_info": {
   "codemirror_mode": {
    "name": "ipython",
    "version": 3
   },
   "file_extension": ".py",
   "mimetype": "text/x-python",
   "name": "python",
   "nbconvert_exporter": "python",
   "pygments_lexer": "ipython3",
   "version": "3.10.9"
  }
 },
 "nbformat": 4,
 "nbformat_minor": 5
}
